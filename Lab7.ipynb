{
 "cells": [
  {
   "cell_type": "markdown",
   "metadata": {},
   "source": [
    "# Questions"
   ]
  },
  {
   "cell_type": "markdown",
   "metadata": {},
   "source": [
    "# 1.a"
   ]
  },
  {
   "cell_type": "code",
   "execution_count": 1,
   "metadata": {},
   "outputs": [],
   "source": [
    "import matplotlib.pyplot as plt\n",
    "import collections\n",
    "import networkx as nx\n",
    "import numpy as np\n",
    "import scipy as sp\n",
    "import random\n",
    "\n",
    "# progress bar\n",
    "from ipywidgets import IntProgress\n",
    "from IPython.display import display"
   ]
  },
  {
   "cell_type": "code",
   "execution_count": 2,
   "metadata": {},
   "outputs": [
    {
     "data": {
      "image/png": "[encoded data removed]",
      "text/plain": [
       "<Figure size 432x288 with 1 Axes>"
      ]
     },
     "metadata": {
      "needs_background": "light"
     },
     "output_type": "display_data"
    }
   ],
   "source": [
    "G = nx.Graph()\n",
    "\n",
    "# Add network\n",
    "G.add_edge(1, 2)\n",
    "G.add_edge(2, 3)\n",
    "G.add_edge(3, 4)\n",
    "G.add_edge(3, 5)\n",
    "G.add_edge(4, 5)\n",
    "\n",
    "# set layout\n",
    "pos = {1:(1,1),2:(1,3.5),3:(2,2),4:(2,5),5:(3,4)}\n",
    "\n",
    "# draw nodes\n",
    "nx.draw_networkx_nodes(G, pos, alpha=0.3)\n",
    "\n",
    "# draw edges\n",
    "nx.draw_networkx_edges(G, pos, width=3, alpha=0.3, edge_color='b')\n",
    "\n",
    "# draw labels\n",
    "nx.draw_networkx_labels(G, pos, font_size=16)\n",
    "\n",
    "# plot plot\n",
    "plt.axis('off')\n",
    "plt.show()\n"
   ]
  },
  {
   "cell_type": "code",
   "execution_count": 3,
   "metadata": {},
   "outputs": [
    {
     "data": {
      "image/png": "[encoded data removed]",
      "text/plain": [
       "<Figure size 432x288 with 1 Axes>"
      ]
     },
     "metadata": {
      "needs_background": "light"
     },
     "output_type": "display_data"
    }
   ],
   "source": [
    "# Degree histogram\n",
    "degree_sequence = sorted([d for n, d in G.degree()], reverse=True)\n",
    "\n",
    "degreeCount = collections.Counter(degree_sequence)\n",
    "deg, cnt = zip(*degreeCount.items())\n",
    "\n",
    "fig, ax = plt.subplots()\n",
    "plt.bar(deg, cnt)\n",
    "\n",
    "plt.title(\"Degree Histogram\")\n",
    "plt.ylabel(\"Count\")\n",
    "plt.xlabel(\"Degree\")\n",
    "ax.set_xticks([d for d in deg])\n",
    "ax.set_yticks([c for c in cnt])\n",
    "plt.show()"
   ]
  },
  {
   "cell_type": "markdown",
   "metadata": {},
   "source": [
    "# 1.b"
   ]
  },
  {
   "cell_type": "code",
   "execution_count": 4,
   "metadata": {},
   "outputs": [
    {
     "name": "stdout",
     "output_type": "stream",
     "text": [
      "[[0 1 0 0 0]\n",
      " [1 0 1 0 0]\n",
      " [0 1 0 1 1]\n",
      " [0 0 1 0 1]\n",
      " [0 0 1 1 0]]\n"
     ]
    }
   ],
   "source": [
    "# create adjacency matrix\n",
    "amatrix = nx.adjacency_matrix(G)\n",
    "amatrix = amatrix.todense()\n",
    "print(amatrix)"
   ]
  },
  {
   "cell_type": "markdown",
   "metadata": {},
   "source": [
    "# 1.c"
   ]
  },
  {
   "cell_type": "code",
   "execution_count": 5,
   "metadata": {},
   "outputs": [
    {
     "name": "stdout",
     "output_type": "stream",
     "text": [
      "the degree centrality for nodes\n",
      "{1: 0.25, 2: 0.5, 3: 0.75, 4: 0.5, 5: 0.5} \n",
      "\n",
      "the closeness centrality for nodes\n",
      "{1: 0.4444444444444444, 2: 0.6666666666666666, 3: 0.8, 4: 0.5714285714285714, 5: 0.5714285714285714}\n"
     ]
    }
   ],
   "source": [
    "# degree centrality\n",
    "# the sum of the line of the adjency matrix corresponding to each node, divided by (the number of nodes -1) \n",
    "print(\"the degree centrality for nodes\")\n",
    "degree_centrality = {}\n",
    "for i in range(len(amatrix)):\n",
    "    degree_centrality[i+1] = np.sum(amatrix[i])/(len(amatrix)-1)\n",
    "print(degree_centrality,\"\\n\")\n",
    "\n",
    "# degree closeness\n",
    "# per node the sum of te closest distances to other nodes, divided by the nodes-1, to the power -1\n",
    "print(\"the closeness centrality for nodes\")\n",
    "closeness_centrality ={}\n",
    "closeness_centrality[1] = ((1+2+3+3)/4)**-1\n",
    "closeness_centrality[2] = ((1+1+2+2)/4)**-1\n",
    "closeness_centrality[3] = ((2+1+1+1)/4)**-1\n",
    "closeness_centrality[4] = ((1+1+2+3)/4)**-1\n",
    "closeness_centrality[5] = ((1+1+2+3)/4)**-1\n",
    "print(closeness_centrality)"
   ]
  },
  {
   "cell_type": "code",
   "execution_count": 6,
   "metadata": {},
   "outputs": [
    {
     "name": "stdout",
     "output_type": "stream",
     "text": [
      "the degree centrality for nodes\n",
      "{1: 0.25, 2: 0.5, 3: 0.75, 4: 0.5, 5: 0.5} \n",
      "\n",
      "the closeness centrality for nodes\n",
      "{1: 0.4444444444444444, 2: 0.6666666666666666, 3: 0.8, 4: 0.5714285714285714, 5: 0.5714285714285714}\n"
     ]
    }
   ],
   "source": [
    "# calculated using a library to check for correctness\n",
    "print(\"the degree centrality for nodes\")\n",
    "print(nx.degree_centrality(G),\"\\n\")\n",
    "print(\"the closeness centrality for nodes\")\n",
    "print(nx.closeness_centrality(G))"
   ]
  },
  {
   "cell_type": "markdown",
   "metadata": {},
   "source": [
    "# 1.d"
   ]
  },
  {
   "cell_type": "code",
   "execution_count": 7,
   "metadata": {},
   "outputs": [
    {
     "name": "stdout",
     "output_type": "stream",
     "text": [
      "The vector of the degree per vertex:\n",
      "node 1 -> 1\n",
      "node 2 -> 2\n",
      "node 3 -> 3\n",
      "node 4 -> 2\n",
      "node 5 -> 2\n"
     ]
    }
   ],
   "source": [
    "print(\"The vector of the degree per vertex:\")\n",
    "for i in range(len(amatrix)):\n",
    "    print(\"node\",i+1,\"->\",np.sum(amatrix[i]))"
   ]
  },
  {
   "cell_type": "markdown",
   "metadata": {},
   "source": [
    "# 1.e"
   ]
  },
  {
   "cell_type": "code",
   "execution_count": 8,
   "metadata": {},
   "outputs": [
    {
     "data": {
      "image/png": "[encoded data removed]",
      "text/plain": [
       "<Figure size 432x288 with 1 Axes>"
      ]
     },
     "metadata": {
      "needs_background": "light"
     },
     "output_type": "display_data"
    },
    {
     "data": {
      "image/png": "[encoded data removed]",
      "text/plain": [
       "<Figure size 432x288 with 1 Axes>"
      ]
     },
     "metadata": {
      "needs_background": "light"
     },
     "output_type": "display_data"
    }
   ],
   "source": [
    "H = nx.DiGraph()\n",
    "\n",
    "# Add network\n",
    "H.add_edge(1, 2)\n",
    "H.add_edge(2, 3)\n",
    "H.add_edge(3, 4)\n",
    "H.add_edge(3, 5)\n",
    "H.add_edge(4, 5)\n",
    "\n",
    "pos = {1:(1,1),2:(1,3.5),3:(2,2),4:(2,5),5:(3,4)}\n",
    "nx.draw_networkx_nodes(H, pos, alpha=0.3)\n",
    "nx.draw_networkx_edges(H, pos, width=3, alpha=0.3, edge_color='b')\n",
    "nx.draw_networkx_labels(H, pos, font_size=16)\n",
    "plt.axis('off')\n",
    "plt.show()\n",
    "\n",
    "\n",
    "H = nx.DiGraph()\n",
    "\n",
    "# Add network\n",
    "H.add_edge(2, 1)\n",
    "H.add_edge(2, 3)\n",
    "H.add_edge(3, 4)\n",
    "H.add_edge(3, 5)\n",
    "H.add_edge(4, 5)\n",
    "\n",
    "pos = {1:(1,1),2:(1,3.5),3:(2,2),4:(2,5),5:(3,4)}\n",
    "nx.draw_networkx_nodes(H, pos, alpha=0.3)\n",
    "nx.draw_networkx_edges(H, pos, width=3, alpha=0.3, edge_color='b')\n",
    "nx.draw_networkx_labels(H, pos, font_size=16)\n",
    "plt.axis('off')\n",
    "plt.show()\n",
    "\n"
   ]
  },
  {
   "cell_type": "markdown",
   "metadata": {},
   "source": [
    "As can be seen from the two plotted networks, between node 1 and node 2 only two possible directions can exist. In the top plot, from node 2 node 1 can't be reached. In the bottom plot, from node 1 node 2 can't be reached. Thus, no such ’directionalization’ exists such that from all vertices you could reach (or infect) the entire network."
   ]
  },
  {
   "cell_type": "markdown",
   "metadata": {},
   "source": [
    "# 1.f"
   ]
  },
  {
   "cell_type": "code",
   "execution_count": 9,
   "metadata": {},
   "outputs": [
    {
     "name": "stdout",
     "output_type": "stream",
     "text": [
      "Local clustering coefficient\n",
      "{1: 0, 2: 0, 3: 0.3333333333333333, 4: 1.0, 5: 1.0}\n"
     ]
    }
   ],
   "source": [
    "# https://www.geeksforgeeks.org/clustering-coefficient-graph-theory/\n",
    "print(\"Local clustering coefficient\")\n",
    "print(nx.clustering(G))"
   ]
  },
  {
   "cell_type": "markdown",
   "metadata": {},
   "source": [
    "# 1.g"
   ]
  },
  {
   "cell_type": "code",
   "execution_count": 10,
   "metadata": {},
   "outputs": [
    {
     "data": {
      "image/png": "[encoded data removed]",
      "text/plain": [
       "<Figure size 432x288 with 1 Axes>"
      ]
     },
     "metadata": {
      "needs_background": "light"
     },
     "output_type": "display_data"
    },
    {
     "name": "stdout",
     "output_type": "stream",
     "text": [
      "5 edges need to be added for the following local clustering coefficients:\n",
      "{1: 1.0, 2: 1.0, 3: 1.0, 4: 1.0, 5: 1.0}\n"
     ]
    }
   ],
   "source": [
    "G = nx.Graph()\n",
    "\n",
    "# add network\n",
    "G.add_edge(1, 2)\n",
    "G.add_edge(2, 3)\n",
    "G.add_edge(3, 4)\n",
    "G.add_edge(3, 5)\n",
    "G.add_edge(4, 5)\n",
    "\n",
    "# add minimum number of edges (5) so that the clustering coefficient is 1 for every vertex\n",
    "# this is the minimum because every vertex has to be connected to overy other vertex\n",
    "G.add_edge(1, 3)\n",
    "G.add_edge(1, 4)\n",
    "G.add_edge(1, 5)\n",
    "G.add_edge(2, 4)\n",
    "G.add_edge(2, 5)\n",
    "\n",
    "# set layout\n",
    "pos = nx.spring_layout(G)\n",
    "\n",
    "# draw nodes\n",
    "nx.draw_networkx_nodes(G, pos, alpha=0.3)\n",
    "\n",
    "# draw edges\n",
    "nx.draw_networkx_edges(G, pos, width=3, alpha=0.3, edge_color='b')\n",
    "\n",
    "# draw labels\n",
    "nx.draw_networkx_labels(G, pos, font_size=16)\n",
    "\n",
    "# plot plot\n",
    "plt.axis('off')\n",
    "plt.show()\n",
    "\n",
    "print(\"5 edges need to be added for the following local clustering coefficients:\")\n",
    "print(nx.clustering(G))"
   ]
  },
  {
   "cell_type": "markdown",
   "metadata": {},
   "source": [
    "# 2.a"
   ]
  },
  {
   "cell_type": "markdown",
   "metadata": {},
   "source": [
    "![title](lab7_img/2a.jpg)\n",
    "\n",
    "The right type of probability distribution is binominal\n"
   ]
  },
  {
   "cell_type": "markdown",
   "metadata": {},
   "source": [
    "# 2.b"
   ]
  },
  {
   "cell_type": "markdown",
   "metadata": {},
   "source": [
    "t = clustering coefficient\n",
    "\n",
    "P = kans op edge\n",
    "\n",
    "$$\n",
    "\\binom{\\binom{k}{2}}{t\\cdot \\binom{k}{2}}\\cdot P^{t\\cdot \\binom{k}{2}}\\cdot (1-P)^{\\binom{k}{2}-t\\cdot \\binom{k}{2}}\n",
    "$$"
   ]
  },
  {
   "cell_type": "markdown",
   "metadata": {},
   "source": [
    "# 2.c"
   ]
  },
  {
   "cell_type": "code",
   "execution_count": null,
   "metadata": {},
   "outputs": [],
   "source": []
  },
  {
   "cell_type": "markdown",
   "metadata": {},
   "source": [
    "# 2.d"
   ]
  },
  {
   "cell_type": "code",
   "execution_count": null,
   "metadata": {},
   "outputs": [],
   "source": []
  },
  {
   "cell_type": "markdown",
   "metadata": {},
   "source": [
    "# 2.e"
   ]
  },
  {
   "cell_type": "markdown",
   "metadata": {},
   "source": [
    "This expected degree is 50\n",
    "\n",
    "![title](lab7_img/2e.jpg)"
   ]
  },
  {
   "cell_type": "markdown",
   "metadata": {},
   "source": [
    "# Epidemics"
   ]
  },
  {
   "cell_type": "markdown",
   "metadata": {},
   "source": [
    "# 1.a"
   ]
  },
  {
   "cell_type": "code",
   "execution_count": 11,
   "metadata": {},
   "outputs": [
    {
     "name": "stdout",
     "output_type": "stream",
     "text": [
      "prob not infected: 0.25\n",
      "prob infected: 0.75\n"
     ]
    }
   ],
   "source": [
    "def prob_not_infected(i,r):\n",
    "    return (1-i)**r\n",
    "\n",
    "def prob_infected(i,r):\n",
    "    return (1-prob_not_infected(i,r))\n",
    "\n",
    "i = 0.5\n",
    "r = 2\n",
    "\n",
    "print(\"prob not infected:\",prob_not_infected(i,r))\n",
    "print(\"prob infected:\",prob_infected(i,r))"
   ]
  },
  {
   "cell_type": "markdown",
   "metadata": {},
   "source": [
    "# 1.b"
   ]
  },
  {
   "cell_type": "code",
   "execution_count": 12,
   "metadata": {},
   "outputs": [],
   "source": [
    "# function for plotting\n",
    "def plot1b(N,k,i,initial_infected_prob,timesteps):\n",
    "    # create network\n",
    "    G = nx.fast_gnp_random_graph(N,k / N)\n",
    "\n",
    "    # infect initial nodes\n",
    "    for node in range(N):\n",
    "        if random.random() < initial_infected_prob:\n",
    "            G.nodes[node]['infected'] = True\n",
    "        else:\n",
    "            G.nodes[node]['infected'] = False\n",
    "\n",
    "    infected_nodes = []\n",
    "\n",
    "    # initiate progress bar\n",
    "    f = IntProgress(min=1, max=timesteps)\n",
    "    display(f)\n",
    "\n",
    "    # perform timesteps\n",
    "    for x in range(timesteps):\n",
    "        # for all nodes\n",
    "        infected_per_timestep = 0\n",
    "        for node in range(N):\n",
    "            if G.nodes[node]['infected'] is True:\n",
    "                infected_per_timestep += 1\n",
    "            # for all neighbors\n",
    "            neighbors = nx.all_neighbors(G,node)\n",
    "            infected_neighbors = 0\n",
    "            for neighbor in neighbors:\n",
    "                if G.nodes[neighbor]['infected'] is True:\n",
    "                    infected_neighbors += 1\n",
    "            # infect node if needed\n",
    "            if random.random() < prob_infected(i,infected_neighbors):\n",
    "                G.nodes[node]['infected'] = True\n",
    "        infected_nodes.append(infected_per_timestep/N)\n",
    "        f.value = x+1 # update progress bar\n",
    "\n",
    "    return infected_nodes"
   ]
  },
  {
   "cell_type": "code",
   "execution_count": 13,
   "metadata": {},
   "outputs": [
    {
     "name": "stdout",
     "output_type": "stream",
     "text": [
      "calculation progress case i\n"
     ]
    },
    {
     "data": {
      "application/vnd.jupyter.widget-view+json": {
       "model_id": "07d582572bf44994b22062b40b543ed4",
       "version_major": 2,
       "version_minor": 0
      },
      "text/plain": [
       "IntProgress(value=1, max=300, min=1)"
      ]
     },
     "metadata": {},
     "output_type": "display_data"
    },
    {
     "name": "stdout",
     "output_type": "stream",
     "text": [
      "calculation progress case ii\n"
     ]
    },
    {
     "data": {
      "application/vnd.jupyter.widget-view+json": {
       "model_id": "825afdc17b874004bfb94d0b5a9619bb",
       "version_major": 2,
       "version_minor": 0
      },
      "text/plain": [
       "IntProgress(value=1, max=300, min=1)"
      ]
     },
     "metadata": {},
     "output_type": "display_data"
    }
   ],
   "source": [
    "# set variables\n",
    "initial_infected_prob = 0.001\n",
    "timesteps = 300\n",
    "\n",
    "# case i\n",
    "N = 10**4\n",
    "k = 5.0\n",
    "i = 0.01\n",
    "print(\"calculation progress case i\")\n",
    "case_i = plot1b(N,k,i,initial_infected_prob,timesteps)\n",
    "\n",
    "# case ii\n",
    "N = 10**4\n",
    "k = 0.8\n",
    "i = 0.1\n",
    "print(\"calculation progress case ii\")\n",
    "case_ii = plot1b(N,k,i,initial_infected_prob,timesteps)"
   ]
  },
  {
   "cell_type": "code",
   "execution_count": 14,
   "metadata": {},
   "outputs": [
    {
     "data": {
      "text/plain": [
       "[]"
      ]
     },
     "execution_count": 14,
     "metadata": {},
     "output_type": "execute_result"
    },
    {
     "data": {
      "image/png": "[encoded data removed]",
      "text/plain": [
       "<Figure size 432x288 with 1 Axes>"
      ]
     },
     "metadata": {
      "needs_background": "light"
     },
     "output_type": "display_data"
    }
   ],
   "source": [
    "# plot\n",
    "plt.xlabel(\"time ->\")\n",
    "plt.ylabel(\"fraction infected\")\n",
    "plt.title(\"Infection in the network over time\")\n",
    "plt.plot(case_i, label = 'case i')\n",
    "plt.plot(case_ii, label = 'case ii')\n",
    "plt.legend()\n",
    "plt.plot()"
   ]
  },
  {
   "cell_type": "markdown",
   "metadata": {},
   "source": [
    "One run already gets a smooth curve =)"
   ]
  },
  {
   "cell_type": "markdown",
   "metadata": {},
   "source": [
    "# 1.c"
   ]
  },
  {
   "cell_type": "markdown",
   "metadata": {},
   "source": [
    "Because < k > is smaller than 1 (this is called subcritical) there is no giant component, thus no speading across the network. The infection stays and grows only local."
   ]
  },
  {
   "cell_type": "markdown",
   "metadata": {},
   "source": [
    "# 1.d"
   ]
  },
  {
   "cell_type": "code",
   "execution_count": 15,
   "metadata": {},
   "outputs": [
    {
     "name": "stdout",
     "output_type": "stream",
     "text": [
      "prob_that_vertex_with_k_neighbors_infects_at_least_one: 0.75\n"
     ]
    }
   ],
   "source": [
    "def prob_that_vertex_with_k_neighbors_infects_at_least_one(i,k):\n",
    "    return 1-((1-i)**k)\n",
    "\n",
    "i = 0.5\n",
    "k = 2\n",
    "print(\"prob_that_vertex_with_k_neighbors_infects_at_least_one: \",end=\"\")\n",
    "print(prob_that_vertex_with_k_neighbors_infects_at_least_one(i,k))"
   ]
  },
  {
   "cell_type": "markdown",
   "metadata": {},
   "source": [
    "# 1.e"
   ]
  },
  {
   "cell_type": "code",
   "execution_count": null,
   "metadata": {},
   "outputs": [],
   "source": []
  },
  {
   "cell_type": "markdown",
   "metadata": {},
   "source": [
    "# 1.f"
   ]
  },
  {
   "cell_type": "code",
   "execution_count": null,
   "metadata": {},
   "outputs": [],
   "source": []
  },
  {
   "cell_type": "markdown",
   "metadata": {},
   "source": [
    "# 1.h"
   ]
  },
  {
   "cell_type": "code",
   "execution_count": 16,
   "metadata": {},
   "outputs": [],
   "source": [
    "def function_R0_over_time(N,k,i,initial_infected_prob,timesteps,n_simulations):\n",
    "\n",
    "    # initiate progress bar\n",
    "    f = IntProgress(min=0, max=(timesteps*n_simulations))\n",
    "    count = 0\n",
    "    display(f)\n",
    "\n",
    "    R0_avg = [0]*(timesteps-1)\n",
    "\n",
    "    # for every simulation\n",
    "    for s in range(n_simulations):\n",
    "\n",
    "        # create network\n",
    "        G = nx.fast_gnp_random_graph(N,k / N)\n",
    "\n",
    "        # infect initial nodes\n",
    "        for node in range(N):\n",
    "            if random.random() < initial_infected_prob:\n",
    "                G.nodes[node]['infected'] = True\n",
    "            else:\n",
    "                G.nodes[node]['infected'] = False\n",
    "\n",
    "        infected_nodes = []\n",
    "        R0_over_time = []\n",
    "\n",
    "        # perform timesteps\n",
    "        for t in range(timesteps):\n",
    "\n",
    "            # for all nodes\n",
    "            infected_per_timestep = 0\n",
    "            infected_after_timestep = 0\n",
    "            for node in range(N):\n",
    "\n",
    "                # count infected nodes before timestep\n",
    "                if G.nodes[node]['infected'] is True:\n",
    "                    infected_per_timestep += 1\n",
    "\n",
    "                # for all neighbors\n",
    "                neighbors = nx.all_neighbors(G,node)\n",
    "                infected_neighbors = 0\n",
    "                for neighbor in neighbors:\n",
    "                    if G.nodes[neighbor]['infected'] is True:\n",
    "                        infected_neighbors += 1\n",
    "\n",
    "                # infect node if needed\n",
    "                if random.random() < prob_infected(i,infected_neighbors):\n",
    "                    G.nodes[node]['infected'] = True\n",
    "\n",
    "                # count infected nodes after timestep\n",
    "                if G.nodes[node]['infected'] is True:\n",
    "                    infected_after_timestep += 1\n",
    "\n",
    "            # calculate and save R0\n",
    "            if t < timesteps:\n",
    "                R0_over_time.append( (infected_after_timestep-infected_per_timestep) / (infected_per_timestep) )\n",
    "\n",
    "            infected_nodes.append(infected_per_timestep/N)\n",
    "\n",
    "            count += 1\n",
    "            f.value = count # update progress bar\n",
    "\n",
    "        # append R0_over_time to R0_avg\n",
    "        for _ in range(timesteps-1):\n",
    "            R0_avg[_] += R0_over_time[_]\n",
    "\n",
    "    # average R0_avg by dividing by n_simulations\n",
    "    for value in range(timesteps-1):\n",
    "        R0_avg[value] = R0_avg[value]/n_simulations\n",
    "\n",
    "    return R0_avg"
   ]
  },
  {
   "cell_type": "code",
   "execution_count": 17,
   "metadata": {},
   "outputs": [
    {
     "name": "stdout",
     "output_type": "stream",
     "text": [
      "calculation progress case i\n"
     ]
    },
    {
     "data": {
      "application/vnd.jupyter.widget-view+json": {
       "model_id": "7776cb472d8e4e96a37720a6e362aa07",
       "version_major": 2,
       "version_minor": 0
      },
      "text/plain": [
       "IntProgress(value=0, max=1500)"
      ]
     },
     "metadata": {},
     "output_type": "display_data"
    },
    {
     "name": "stdout",
     "output_type": "stream",
     "text": [
      "calculation progress case ii\n"
     ]
    },
    {
     "data": {
      "application/vnd.jupyter.widget-view+json": {
       "model_id": "f1b2f98884044d8fb96339de1919d2fb",
       "version_major": 2,
       "version_minor": 0
      },
      "text/plain": [
       "IntProgress(value=0, max=1500)"
      ]
     },
     "metadata": {},
     "output_type": "display_data"
    }
   ],
   "source": [
    "# set variables\n",
    "initial_infected_prob = 0.1 # should be 0.001, set to lower value for testing since N can than be lower\n",
    "timesteps = 100\n",
    "n_simulations = 15\n",
    "\n",
    "# case i\n",
    "N = 10**3 # should be 10**5, but set to lower value for emulation speed\n",
    "k = 5.0\n",
    "i = 0.01\n",
    "print(\"calculation progress case i\")\n",
    "case_i = function_R0_over_time(N,k,i,initial_infected_prob,timesteps,n_simulations)\n",
    "\n",
    "# case ii\n",
    "N = 10**3 # should be 10**5, but set to lower value for emulation speed\n",
    "k = 0.8\n",
    "i = 0.1\n",
    "print(\"calculation progress case ii\")\n",
    "case_ii = function_R0_over_time(N,k,i,initial_infected_prob,timesteps,n_simulations)"
   ]
  },
  {
   "cell_type": "code",
   "execution_count": 18,
   "metadata": {},
   "outputs": [
    {
     "data": {
      "text/plain": [
       "[]"
      ]
     },
     "execution_count": 18,
     "metadata": {},
     "output_type": "execute_result"
    },
    {
     "data": {
      "image/png": "[encoded data removed]",
      "text/plain": [
       "<Figure size 432x288 with 1 Axes>"
      ]
     },
     "metadata": {
      "needs_background": "light"
     },
     "output_type": "display_data"
    }
   ],
   "source": [
    "# plot\n",
    "plt.xlabel(\"time ->\")\n",
    "plt.ylabel(\"average reproduction number\")\n",
    "plt.title(\"average reproduction number over time\")\n",
    "plt.plot(case_i,label = 'case i')\n",
    "plt.plot(case_ii,label = 'case ii')\n",
    "plt.legend()\n",
    "plt.plot()"
   ]
  },
  {
   "cell_type": "markdown",
   "metadata": {},
   "source": [
    "# 1.g\n",
    "placed after h because it uses the function defined there"
   ]
  },
  {
   "cell_type": "code",
   "execution_count": 19,
   "metadata": {},
   "outputs": [
    {
     "name": "stdout",
     "output_type": "stream",
     "text": [
      "calculation progress case i\n"
     ]
    },
    {
     "data": {
      "application/vnd.jupyter.widget-view+json": {
       "model_id": "4c9f4f656d1842178a517757e5757bb2",
       "version_major": 2,
       "version_minor": 0
      },
      "text/plain": [
       "IntProgress(value=0, max=60)"
      ]
     },
     "metadata": {},
     "output_type": "display_data"
    },
    {
     "name": "stdout",
     "output_type": "stream",
     "text": [
      "calculation progress case ii\n"
     ]
    },
    {
     "data": {
      "application/vnd.jupyter.widget-view+json": {
       "model_id": "7333f7d0e2ea45b580b6557b6b03b8f8",
       "version_major": 2,
       "version_minor": 0
      },
      "text/plain": [
       "IntProgress(value=0, max=60)"
      ]
     },
     "metadata": {},
     "output_type": "display_data"
    }
   ],
   "source": [
    "# set variables\n",
    "initial_infected_prob = 0.001\n",
    "timesteps = 3\n",
    "n_simulations = 20\n",
    "\n",
    "# case i\n",
    "N = 10**5 # should be 10**5, but set to lower value for emulation speed\n",
    "k = 5.0\n",
    "i = 0.01\n",
    "print(\"calculation progress case i\")\n",
    "case_i = function_R0_over_time(N,k,i,initial_infected_prob,timesteps,n_simulations)\n",
    "\n",
    "# case ii\n",
    "N = 10**5 # should be 10**5, but set to lower value for emulation speed\n",
    "k = 0.8\n",
    "i = 0.1\n",
    "print(\"calculation progress case ii\")\n",
    "case_ii = function_R0_over_time(N,k,i,initial_infected_prob,timesteps,n_simulations)"
   ]
  },
  {
   "cell_type": "code",
   "execution_count": 20,
   "metadata": {},
   "outputs": [
    {
     "name": "stdout",
     "output_type": "stream",
     "text": [
      "R0 in beginning case i: 0.05049026257155351\n",
      "R0 in beginning case ii: 0.07081937557444035\n"
     ]
    }
   ],
   "source": [
    "# beginning is 3 timesteps\n",
    "# takes the average over n_simulations\n",
    "\n",
    "print(\"R0 in beginning case i:\",sum(case_i)/float(len(case_i)))\n",
    "print(\"R0 in beginning case ii:\",sum(case_ii)/float(len(case_ii)))"
   ]
  },
  {
   "cell_type": "markdown",
   "metadata": {},
   "source": [
    "# 1.i"
   ]
  },
  {
   "cell_type": "code",
   "execution_count": null,
   "metadata": {},
   "outputs": [],
   "source": []
  }
 ],
 "metadata": {
  "kernelspec": {
   "display_name": "Python 3",
   "language": "python",
   "name": "python3"
  },
  "language_info": {
   "codemirror_mode": {
    "name": "ipython",
    "version": 3
   },
   "file_extension": ".py",
   "mimetype": "text/x-python",
   "name": "python",
   "nbconvert_exporter": "python",
   "pygments_lexer": "ipython3",
   "version": "3.6.4"
  }
 },
 "nbformat": 4,
 "nbformat_minor": 2
}
