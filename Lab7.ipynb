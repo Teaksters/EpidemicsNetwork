{
 "cells": [
  {
   "cell_type": "markdown",
   "metadata": {},
   "source": [
    "# Questions"
   ]
  },
  {
   "cell_type": "markdown",
   "metadata": {},
   "source": [
    "# 1.a"
   ]
  },
  {
   "cell_type": "code",
   "execution_count": 1,
   "metadata": {},
   "outputs": [],
   "source": [
    "import matplotlib.pyplot as plt\n",
    "import collections\n",
    "import networkx as nx\n",
    "import numpy as np\n",
    "import scipy as sp\n",
    "import random"
   ]
  },
  {
   "cell_type": "code",
   "execution_count": 2,
   "metadata": {},
   "outputs": [
    {
     "data": {
      "image/png": "[encoded data removed]",
      "text/plain": [
       "<Figure size 432x288 with 1 Axes>"
      ]
     },
     "metadata": {
      "needs_background": "light"
     },
     "output_type": "display_data"
    }
   ],
   "source": [
    "G = nx.Graph()\n",
    "\n",
    "# Add network\n",
    "G.add_edge(1, 2)\n",
    "G.add_edge(2, 3)\n",
    "G.add_edge(3, 4)\n",
    "G.add_edge(3, 5)\n",
    "G.add_edge(4, 5)\n",
    "\n",
    "# set layout\n",
    "pos = nx.spring_layout(G)\n",
    "\n",
    "# draw nodes\n",
    "nx.draw_networkx_nodes(G, pos, alpha=0.3)\n",
    "\n",
    "# draw edges\n",
    "nx.draw_networkx_edges(G, pos, width=3, alpha=0.3, edge_color='b')\n",
    "\n",
    "# draw labels\n",
    "nx.draw_networkx_labels(G, pos, font_size=16)\n",
    "\n",
    "# plot plot\n",
    "plt.axis('off')\n",
    "plt.show()\n"
   ]
  },
  {
   "cell_type": "code",
   "execution_count": 3,
   "metadata": {},
   "outputs": [
    {
     "data": {
      "image/png": "[encoded data removed]",
      "text/plain": [
       "<Figure size 432x288 with 1 Axes>"
      ]
     },
     "metadata": {
      "needs_background": "light"
     },
     "output_type": "display_data"
    }
   ],
   "source": [
    "# Degree histogram\n",
    "degree_sequence = sorted([d for n, d in G.degree()], reverse=True)\n",
    "\n",
    "degreeCount = collections.Counter(degree_sequence)\n",
    "deg, cnt = zip(*degreeCount.items())\n",
    "\n",
    "fig, ax = plt.subplots()\n",
    "plt.bar(deg, cnt)\n",
    "\n",
    "plt.title(\"Degree Histogram\")\n",
    "plt.ylabel(\"Count\")\n",
    "plt.xlabel(\"Degree\")\n",
    "ax.set_xticks([d for d in deg])\n",
    "ax.set_yticks([c for c in cnt])\n",
    "plt.show()"
   ]
  },
  {
   "cell_type": "markdown",
   "metadata": {},
   "source": [
    "# 1.b"
   ]
  },
  {
   "cell_type": "code",
   "execution_count": 4,
   "metadata": {},
   "outputs": [
    {
     "name": "stdout",
     "output_type": "stream",
     "text": [
      "[[0 1 0 0 0]\n",
      " [1 0 1 0 0]\n",
      " [0 1 0 1 1]\n",
      " [0 0 1 0 1]\n",
      " [0 0 1 1 0]]\n"
     ]
    }
   ],
   "source": [
    "# create adjacency matrix\n",
    "amatrix = nx.adjacency_matrix(G)\n",
    "amatrix = amatrix.todense()\n",
    "print(amatrix)"
   ]
  },
  {
   "cell_type": "markdown",
   "metadata": {},
   "source": [
    "# 1.c"
   ]
  },
  {
   "cell_type": "code",
   "execution_count": 5,
   "metadata": {},
   "outputs": [
    {
     "name": "stdout",
     "output_type": "stream",
     "text": [
      "the degree centrality for nodes\n",
      "{1: 0.25, 2: 0.5, 3: 0.75, 4: 0.5, 5: 0.5} \n",
      "\n",
      "the closeness centrality for nodes\n",
      "{1: 0.4444444444444444, 2: 0.6666666666666666, 3: 0.8, 4: 0.5714285714285714, 5: 0.5714285714285714}\n"
     ]
    }
   ],
   "source": [
    "# degree centrality\n",
    "# the sum of the line of the adjency matrix corresponding to each node, divided by (the number of nodes -1) \n",
    "print(\"the degree centrality for nodes\")\n",
    "degree_centrality = {}\n",
    "for i in range(len(amatrix)):\n",
    "    degree_centrality[i+1] = np.sum(amatrix[i])/(len(amatrix)-1)\n",
    "print(degree_centrality,\"\\n\")\n",
    "\n",
    "# degree closeness\n",
    "# per node the sum of te closest distances to other nodes, divided by the nodes-1, to the power -1\n",
    "print(\"the closeness centrality for nodes\")\n",
    "closeness_centrality ={}\n",
    "closeness_centrality[1] = ((1+2+3+3)/4)**-1\n",
    "closeness_centrality[2] = ((1+1+2+2)/4)**-1\n",
    "closeness_centrality[3] = ((2+1+1+1)/4)**-1\n",
    "closeness_centrality[4] = ((1+1+2+3)/4)**-1\n",
    "closeness_centrality[5] = ((1+1+2+3)/4)**-1\n",
    "print(closeness_centrality)"
   ]
  },
  {
   "cell_type": "code",
   "execution_count": 6,
   "metadata": {},
   "outputs": [
    {
     "name": "stdout",
     "output_type": "stream",
     "text": [
      "the degree centrality for nodes\n",
      "{1: 0.25, 2: 0.5, 3: 0.75, 4: 0.5, 5: 0.5} \n",
      "\n",
      "the closeness centrality for nodes\n",
      "{1: 0.4444444444444444, 2: 0.6666666666666666, 3: 0.8, 4: 0.5714285714285714, 5: 0.5714285714285714}\n"
     ]
    }
   ],
   "source": [
    "# calculated using a library to check for correctness\n",
    "print(\"the degree centrality for nodes\")\n",
    "print(nx.degree_centrality(G),\"\\n\")\n",
    "print(\"the closeness centrality for nodes\")\n",
    "print(nx.closeness_centrality(G))"
   ]
  },
  {
   "cell_type": "markdown",
   "metadata": {},
   "source": [
    "# 1.d"
   ]
  },
  {
   "cell_type": "code",
   "execution_count": null,
   "metadata": {},
   "outputs": [],
   "source": []
  },
  {
   "cell_type": "markdown",
   "metadata": {},
   "source": [
    "# 1.e"
   ]
  },
  {
   "cell_type": "code",
   "execution_count": null,
   "metadata": {},
   "outputs": [],
   "source": []
  },
  {
   "cell_type": "markdown",
   "metadata": {},
   "source": [
    "# 1.f"
   ]
  },
  {
   "cell_type": "code",
   "execution_count": 7,
   "metadata": {},
   "outputs": [
    {
     "name": "stdout",
     "output_type": "stream",
     "text": [
      "Local clustering coefficient\n",
      "{1: 0, 2: 0, 3: 0.3333333333333333, 4: 1.0, 5: 1.0}\n"
     ]
    }
   ],
   "source": [
    "# https://www.geeksforgeeks.org/clustering-coefficient-graph-theory/\n",
    "print(\"Local clustering coefficient\")\n",
    "print(nx.clustering(G))"
   ]
  },
  {
   "cell_type": "markdown",
   "metadata": {},
   "source": [
    "# 1.g"
   ]
  },
  {
   "cell_type": "code",
   "execution_count": 8,
   "metadata": {},
   "outputs": [
    {
     "data": {
      "image/png": "[encoded data removed]",
      "text/plain": [
       "<Figure size 432x288 with 1 Axes>"
      ]
     },
     "metadata": {
      "needs_background": "light"
     },
     "output_type": "display_data"
    },
    {
     "name": "stdout",
     "output_type": "stream",
     "text": [
      "Local clustering coefficient\n",
      "{1: 1.0, 2: 1.0, 3: 1.0, 4: 1.0, 5: 1.0}\n"
     ]
    }
   ],
   "source": [
    "G = nx.Graph()\n",
    "\n",
    "# add network\n",
    "G.add_edge(1, 2)\n",
    "G.add_edge(2, 3)\n",
    "G.add_edge(3, 4)\n",
    "G.add_edge(3, 5)\n",
    "G.add_edge(4, 5)\n",
    "\n",
    "# add minimum number of edges (5) so that the clustering coefficient is 1 for every vertex\n",
    "# this is the minimum because every vertex has to be connected to overy other vertex\n",
    "G.add_edge(1, 3)\n",
    "G.add_edge(1, 4)\n",
    "G.add_edge(1, 5)\n",
    "G.add_edge(2, 4)\n",
    "G.add_edge(2, 5)\n",
    "\n",
    "# set layout\n",
    "pos = nx.spring_layout(G)\n",
    "\n",
    "# draw nodes\n",
    "nx.draw_networkx_nodes(G, pos, alpha=0.3)\n",
    "\n",
    "# draw edges\n",
    "nx.draw_networkx_edges(G, pos, width=3, alpha=0.3, edge_color='b')\n",
    "\n",
    "# draw labels\n",
    "nx.draw_networkx_labels(G, pos, font_size=16)\n",
    "\n",
    "# plot plot\n",
    "plt.axis('off')\n",
    "plt.show()\n",
    "\n",
    "print(\"Local clustering coefficient\")\n",
    "print(nx.clustering(G))"
   ]
  },
  {
   "cell_type": "markdown",
   "metadata": {},
   "source": [
    "# 2.a"
   ]
  },
  {
   "cell_type": "code",
   "execution_count": null,
   "metadata": {},
   "outputs": [],
   "source": []
  }
 ],
 "metadata": {
  "kernelspec": {
   "display_name": "Python 3",
   "language": "python",
   "name": "python3"
  },
  "language_info": {
   "codemirror_mode": {
    "name": "ipython",
    "version": 3
   },
   "file_extension": ".py",
   "mimetype": "text/x-python",
   "name": "python",
   "nbconvert_exporter": "python",
   "pygments_lexer": "ipython3",
   "version": "3.7.0"
  }
 },
 "nbformat": 4,
 "nbformat_minor": 2
}
