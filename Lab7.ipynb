{
 "cells": [
  {
   "cell_type": "markdown",
   "metadata": {},
   "source": [
    "# Questions"
   ]
  },
  {
   "cell_type": "markdown",
   "metadata": {},
   "source": [
    "# 1.a"
   ]
  },
  {
   "cell_type": "code",
   "execution_count": 1,
   "metadata": {},
   "outputs": [],
   "source": [
    "import matplotlib.pyplot as plt\n",
    "import collections\n",
    "import networkx as nx\n",
    "import numpy as np\n",
    "import scipy as sp\n",
    "import random\n",
    "\n",
    "# progress bar\n",
    "from ipywidgets import IntProgress\n",
    "from IPython.display import display"
   ]
  },
  {
   "cell_type": "code",
   "execution_count": 2,
   "metadata": {},
   "outputs": [
    {
     "data": {
      "image/png": "[encoded data removed]",
      "text/plain": [
       "<matplotlib.figure.Figure at 0x7fe3fa4295f8>"
      ]
     },
     "metadata": {},
     "output_type": "display_data"
    }
   ],
   "source": [
    "G = nx.Graph()\n",
    "\n",
    "# Add network\n",
    "G.add_edge(1, 2)\n",
    "G.add_edge(2, 3)\n",
    "G.add_edge(3, 4)\n",
    "G.add_edge(3, 5)\n",
    "G.add_edge(4, 5)\n",
    "\n",
    "# set layout\n",
    "pos = {1:(1,1),2:(1,3.5),3:(2,2),4:(2,5),5:(3,4)}\n",
    "\n",
    "# draw nodes\n",
    "nx.draw_networkx_nodes(G, pos, alpha=0.3)\n",
    "\n",
    "# draw edges\n",
    "nx.draw_networkx_edges(G, pos, width=3, alpha=0.3, edge_color='b')\n",
    "\n",
    "# draw labels\n",
    "nx.draw_networkx_labels(G, pos, font_size=16)\n",
    "\n",
    "# plot plot\n",
    "plt.axis('off')\n",
    "plt.show()\n"
   ]
  },
  {
   "cell_type": "code",
   "execution_count": 3,
   "metadata": {},
   "outputs": [
    {
     "data": {
      "image/png": "[encoded data removed]",
      "text/plain": [
       "<matplotlib.figure.Figure at 0x7fe3f1ed94a8>"
      ]
     },
     "metadata": {},
     "output_type": "display_data"
    }
   ],
   "source": [
    "# Degree histogram\n",
    "degree_sequence = sorted([d for n, d in G.degree()], reverse=True)\n",
    "\n",
    "degreeCount = collections.Counter(degree_sequence)\n",
    "deg, cnt = zip(*degreeCount.items())\n",
    "\n",
    "fig, ax = plt.subplots()\n",
    "plt.bar(deg, cnt)\n",
    "\n",
    "plt.title(\"Degree Histogram\")\n",
    "plt.ylabel(\"Count\")\n",
    "plt.xlabel(\"Degree\")\n",
    "ax.set_xticks([d for d in deg])\n",
    "ax.set_yticks([c for c in cnt])\n",
    "plt.show()"
   ]
  },
  {
   "cell_type": "markdown",
   "metadata": {},
   "source": [
    "# 1.b"
   ]
  },
  {
   "cell_type": "code",
   "execution_count": 4,
   "metadata": {},
   "outputs": [
    {
     "name": "stdout",
     "output_type": "stream",
     "text": [
      "[[0 1 0 0 0]\n",
      " [1 0 1 0 0]\n",
      " [0 1 0 1 1]\n",
      " [0 0 1 0 1]\n",
      " [0 0 1 1 0]]\n"
     ]
    }
   ],
   "source": [
    "# create adjacency matrix\n",
    "amatrix = nx.adjacency_matrix(G)\n",
    "amatrix = amatrix.todense()\n",
    "print(amatrix)"
   ]
  },
  {
   "cell_type": "markdown",
   "metadata": {},
   "source": [
    "# 1.c"
   ]
  },
  {
   "cell_type": "code",
   "execution_count": 5,
   "metadata": {},
   "outputs": [
    {
     "name": "stdout",
     "output_type": "stream",
     "text": [
      "the degree centrality for nodes\n",
      "{1: 0.25, 2: 0.5, 3: 0.75, 4: 0.5, 5: 0.5} \n",
      "\n",
      "the closeness centrality for nodes\n",
      "{1: 0.4444444444444444, 2: 0.6666666666666666, 3: 0.8, 4: 0.5714285714285714, 5: 0.5714285714285714}\n"
     ]
    }
   ],
   "source": [
    "# degree centrality\n",
    "# the sum of the line of the adjency matrix corresponding to each node, divided by (the number of nodes -1) \n",
    "print(\"the degree centrality for nodes\")\n",
    "degree_centrality = {}\n",
    "for i in range(len(amatrix)):\n",
    "    degree_centrality[i+1] = np.sum(amatrix[i])/(len(amatrix)-1)\n",
    "print(degree_centrality,\"\\n\")\n",
    "\n",
    "# degree closeness\n",
    "# per node the sum of te closest distances to other nodes, divided by the nodes-1, to the power -1\n",
    "print(\"the closeness centrality for nodes\")\n",
    "closeness_centrality ={}\n",
    "closeness_centrality[1] = ((1+2+3+3)/4)**-1\n",
    "closeness_centrality[2] = ((1+1+2+2)/4)**-1\n",
    "closeness_centrality[3] = ((2+1+1+1)/4)**-1\n",
    "closeness_centrality[4] = ((1+1+2+3)/4)**-1\n",
    "closeness_centrality[5] = ((1+1+2+3)/4)**-1\n",
    "print(closeness_centrality)"
   ]
  },
  {
   "cell_type": "code",
   "execution_count": 6,
   "metadata": {},
   "outputs": [
    {
     "name": "stdout",
     "output_type": "stream",
     "text": [
      "the degree centrality for nodes\n",
      "{1: 0.25, 2: 0.5, 3: 0.75, 4: 0.5, 5: 0.5} \n",
      "\n",
      "the closeness centrality for nodes\n",
      "{1: 0.4444444444444444, 2: 0.6666666666666666, 3: 0.8, 4: 0.5714285714285714, 5: 0.5714285714285714}\n"
     ]
    }
   ],
   "source": [
    "# calculated using a library to check for correctness\n",
    "print(\"the degree centrality for nodes\")\n",
    "print(nx.degree_centrality(G),\"\\n\")\n",
    "print(\"the closeness centrality for nodes\")\n",
    "print(nx.closeness_centrality(G))"
   ]
  },
  {
   "cell_type": "markdown",
   "metadata": {},
   "source": [
    "# 1.d"
   ]
  },
  {
   "cell_type": "code",
   "execution_count": 63,
   "metadata": {},
   "outputs": [
    {
     "name": "stdout",
     "output_type": "stream",
     "text": [
      "The vector of the degree per vertex:\n",
      "node 1 -> 1\n",
      "node 2 -> 2\n",
      "node 3 -> 3\n",
      "node 4 -> 2\n",
      "node 5 -> 2\n"
     ]
    }
   ],
   "source": [
    "''''You want to know the amount of 1's you have in each row of the adjacency matrix. \n",
    "If you want to know you can just multiply the adjacency matrix with a vector full of 1's. This will leave \n",
    "the amount of ones in each row in the corresponding 'row' of the vector.'''\n",
    "\n",
    "countVec = np.array([1] * len(amatrix))\n",
    "countVec = np.array(amatrix) @ countVec\n",
    "\n",
    "print(\"The vector of the degree per vertex:\")\n",
    "for i in range(len(countVec)):\n",
    "    print(\"node\",i+1,\"->\", countVec[i])"
   ]
  },
  {
   "cell_type": "markdown",
   "metadata": {},
   "source": [
    "# 1.e"
   ]
  },
  {
   "cell_type": "code",
   "execution_count": 8,
   "metadata": {},
   "outputs": [
    {
     "data": {
      "image/png": "[encoded data removed]",
      "text/plain": [
       "<matplotlib.figure.Figure at 0x7fe3f1dcd0f0>"
      ]
     },
     "metadata": {},
     "output_type": "display_data"
    },
    {
     "data": {
      "image/png": "[encoded data removed]",
      "text/plain": [
       "<matplotlib.figure.Figure at 0x7fe3f1de7860>"
      ]
     },
     "metadata": {},
     "output_type": "display_data"
    }
   ],
   "source": [
    "H = nx.DiGraph()\n",
    "\n",
    "# Add network\n",
    "H.add_edge(1, 2)\n",
    "H.add_edge(2, 3)\n",
    "H.add_edge(3, 4)\n",
    "H.add_edge(3, 5)\n",
    "H.add_edge(4, 5)\n",
    "\n",
    "pos = {1:(1,1),2:(1,3.5),3:(2,2),4:(2,5),5:(3,4)}\n",
    "nx.draw_networkx_nodes(H, pos, alpha=0.3)\n",
    "nx.draw_networkx_edges(H, pos, width=3, alpha=0.3, edge_color='b')\n",
    "nx.draw_networkx_labels(H, pos, font_size=16)\n",
    "plt.axis('off')\n",
    "plt.show()\n",
    "\n",
    "\n",
    "H = nx.DiGraph()\n",
    "\n",
    "# Add network\n",
    "H.add_edge(2, 1)\n",
    "H.add_edge(2, 3)\n",
    "H.add_edge(3, 4)\n",
    "H.add_edge(3, 5)\n",
    "H.add_edge(4, 5)\n",
    "\n",
    "pos = {1:(1,1),2:(1,3.5),3:(2,2),4:(2,5),5:(3,4)}\n",
    "nx.draw_networkx_nodes(H, pos, alpha=0.3)\n",
    "nx.draw_networkx_edges(H, pos, width=3, alpha=0.3, edge_color='b')\n",
    "nx.draw_networkx_labels(H, pos, font_size=16)\n",
    "plt.axis('off')\n",
    "plt.show()\n",
    "\n"
   ]
  },
  {
   "cell_type": "markdown",
   "metadata": {},
   "source": [
    "As can be seen from the two plotted networks, between node 1 and node 2 only two possible directions can exist. In the top plot, from node 2 node 1 can't be reached. In the bottom plot, from node 1 node 2 and any of the other nodes can't be reached, The same goes for the connection between 2 and 3. There is no alternative route you could take. Thus, no such ’directionalization’ exists such that from all vertices you could reach (or infect) the entire network."
   ]
  },
  {
   "cell_type": "markdown",
   "metadata": {},
   "source": [
    "# 1.f"
   ]
  },
  {
   "cell_type": "code",
   "execution_count": 9,
   "metadata": {},
   "outputs": [
    {
     "name": "stdout",
     "output_type": "stream",
     "text": [
      "Local clustering coefficient\n",
      "{1: 0, 2: 0, 3: 0.3333333333333333, 4: 1.0, 5: 1.0}\n"
     ]
    }
   ],
   "source": [
    "# https://www.geeksforgeeks.org/clustering-coefficient-graph-theory/\n",
    "print(\"Local clustering coefficient\")\n",
    "print(nx.clustering(G))"
   ]
  },
  {
   "cell_type": "markdown",
   "metadata": {},
   "source": [
    "# 1.g"
   ]
  },
  {
   "cell_type": "code",
   "execution_count": 10,
   "metadata": {},
   "outputs": [
    {
     "data": {
      "image/png": "[encoded data removed]",
      "text/plain": [
       "<matplotlib.figure.Figure at 0x7fe3f1df3ba8>"
      ]
     },
     "metadata": {},
     "output_type": "display_data"
    },
    {
     "name": "stdout",
     "output_type": "stream",
     "text": [
      "5 edges need to be added for the following local clustering coefficients:\n",
      "{1: 1.0, 2: 1.0, 3: 1.0, 4: 1.0, 5: 1.0}\n"
     ]
    }
   ],
   "source": [
    "G = nx.Graph()\n",
    "\n",
    "# add network\n",
    "G.add_edge(1, 2)\n",
    "G.add_edge(2, 3)\n",
    "G.add_edge(3, 4)\n",
    "G.add_edge(3, 5)\n",
    "G.add_edge(4, 5)\n",
    "\n",
    "# add minimum number of edges (5) so that the clustering coefficient is 1 for every vertex\n",
    "# this is the minimum because every vertex has to be connected to overy other vertex\n",
    "G.add_edge(1, 3)\n",
    "G.add_edge(1, 4)\n",
    "G.add_edge(1, 5)\n",
    "G.add_edge(2, 4)\n",
    "G.add_edge(2, 5)\n",
    "\n",
    "# set layout\n",
    "pos = nx.spring_layout(G)\n",
    "\n",
    "# draw nodes\n",
    "nx.draw_networkx_nodes(G, pos, alpha=0.3)\n",
    "\n",
    "# draw edges\n",
    "nx.draw_networkx_edges(G, pos, width=3, alpha=0.3, edge_color='b')\n",
    "\n",
    "# draw labels\n",
    "nx.draw_networkx_labels(G, pos, font_size=16)\n",
    "\n",
    "# plot plot\n",
    "plt.axis('off')\n",
    "plt.show()\n",
    "\n",
    "print(\"5 edges need to be added for the following local clustering coefficients:\")\n",
    "print(nx.clustering(G))"
   ]
  },
  {
   "cell_type": "markdown",
   "metadata": {},
   "source": [
    "Only 5 edges need to be added, because for every node to have a local clustering coefficient of 1. That would mean that every cell's neigbors must form a clique together. Which would then mean that every cell would need to be in a clique with every other cell, thus the graph needs to be a clique and thus be a complete graph. For a graph to be complete it needs n(n - 1) / 2 edges. Which in this case would be 5 * 4 / 2 = 10 edges. As we had 5 already, we indeed just needed to add another 5 to transform G into a complete graph and leave every node with a local clustering coefficient of 1."
   ]
  },
  {
   "cell_type": "markdown",
   "metadata": {},
   "source": [
    "# 2.a"
   ]
  },
  {
   "cell_type": "markdown",
   "metadata": {},
   "source": [
    "![title](lab7_img/2a.jpg)\n",
    "\n",
    "The right type of probability distribution is binominal. For big N's the probability distribution will be a poisson distribution. The expected value of k for a single vertex will always be the avarage k as this will be most likely for a randomly connected graph such as a Erdos-Reyni network. \n",
    "\n",
    "\\begin{align}\n",
    "    P(deg(v) = k) = \\binom{n - 1}{k}P^k\\cdot (1-P)^{n - 1 - k}\n",
    "\\end{align}\n",
    "\n",
    "As for bigger or non-static graphs finding N can be difficult or even impossible there is another distribution which works for graphs where n -> $\\infty$, basically big graphs and np = constant. this would be the poisson distribution:\n",
    "\n",
    "\\begin{align}\n",
    "    P(deg(v) = k) = \\frac{np^k \\cdot e^{-np}}{k!}\n",
    "\\end{align}"
   ]
  },
  {
   "cell_type": "markdown",
   "metadata": {},
   "source": [
    "# 2.b"
   ]
  },
  {
   "cell_type": "markdown",
   "metadata": {},
   "source": [
    "information comes from: https://math.stackexchange.com/questions/2198231/for-a-vertex-with-degree-k-what-is-the-probability-that-its-clustering-coeffi\n",
    "\n",
    "There are $\\binom{k}{2}$ potential edges among the vertex's neighbors. For each such edge, the probability for it to be in the random graph is p. Thus the total number of edges, denoted as X, among the neighbors follow the binomial distribution. Which is:\n",
    "\n",
    "$$\n",
    "P\\left(\\frac{X}{\\binom{k}{2}} \\ | \\ t \\right) = P\\left(X \\ | \\ t(\\binom{k}{2}) \\right) = \\binom{\\binom{k}{2}}{t\\cdot \\binom{k}{2}}\\cdot P^{t\\cdot \\binom{k}{2}}\\cdot (1-P)^{\\binom{k}{2}-t\\cdot \\binom{k}{2}}\n",
    "$$"
   ]
  },
  {
   "cell_type": "markdown",
   "metadata": {},
   "source": [
    "# 2.c"
   ]
  },
  {
   "cell_type": "markdown",
   "metadata": {},
   "source": [
    "source used: https://math.stackexchange.com/questions/2200452/expected-local-clustering-coefficient-for-a-node-in-a-network\n",
    "\n",
    "x is the vertex we are examining.\n",
    "\n",
    "The local clustering coefficient of a vertex x in graph G is the fraction of vertex pairs in the neighborhood of x that have an edge between them.\n",
    "\n",
    "The expected local clustering coefficient is\n",
    "\n",
    "\\begin{align}\n",
    "    E[c(x)] = \\\\ E[E[c(x)|x]] = \\\\ E\\left [E \\left [\\frac{N_{neighbor \\ edges \\ x}}{\\binom{k}{2}} | x\\right]\\right] = \\\\\n",
    "    E\\left[\\sum_{i = 0}^{\\binom{k}{2}} binom(i, k, p) \\frac{i}{\\binom{k}{2}} | x\\right] =\\\\\n",
    "    \\sum_{k = 0}^{N-1} P(deg = k) \\sum_{i = 0}^{\\binom{k}{2}} binom(i, k, p) \\frac{i}{\\binom{k}{2}} = \\\\\n",
    "    \\sum_{k = 0}^{N-1} P(deg = k) \\sum_{i = 0}^{\\binom{k}{2}} binom(i, \\binom{k}{2}, p)\n",
    "\\end{align}\n",
    "Ofcourse it is important to note that $Binom(i, \\binom{k}{2}, p) = \\frac{i}{k(k-1) / 2}$ and that $\\binom{k}{2} = k(k - 1) / 2$"
   ]
  },
  {
   "cell_type": "markdown",
   "metadata": {},
   "source": [
    "# 2.d"
   ]
  },
  {
   "cell_type": "markdown",
   "metadata": {},
   "source": [
    "NE is the collection of edges that are between the neighbors of x.\n",
    "\n",
    "For this anwer the same source as the one above mentioned was used.\n",
    "\n",
    "\\begin{align}\n",
    "E\\left [E \\left [\\frac{N_{neighbor \\ edges \\ x}}{\\binom{k}{2}} | x\\right]\\right] = \\\\\n",
    "E\\left [\\frac{1}{\\binom{k}{2}} \\sum_{i\\in NE}E \\left [1 | x \\right] \\right] = \\\\\n",
    "E\\left [\\frac{1}{\\binom{k}{2}} \\sum_{i\\in NE} P(edge \\in NE | x) \\right] = \\\\\n",
    "E\\left [\\frac{1}{\\binom{k}{2}} \\sum_{i\\in NE} p \\right] = \\\\\n",
    "E\\left [\\frac{1}{\\binom{k}{2}} p \\binom{k}{2}\\right] = \\\\ p\n",
    "\\end{align}"
   ]
  },
  {
   "cell_type": "markdown",
   "metadata": {},
   "source": [
    "# 2.e"
   ]
  },
  {
   "cell_type": "markdown",
   "metadata": {},
   "source": [
    "The expected degree denoted as $< k >$ of a graph is equal to (n - 1)p. This is the case as p is the chance there is a connection between any of the nodes in the graph"
   ]
  },
  {
   "cell_type": "markdown",
   "metadata": {},
   "source": [
    "# Epidemics"
   ]
  },
  {
   "cell_type": "markdown",
   "metadata": {},
   "source": [
    "# 1.a"
   ]
  },
  {
   "cell_type": "code",
   "execution_count": 13,
   "metadata": {},
   "outputs": [
    {
     "name": "stdout",
     "output_type": "stream",
     "text": [
      "prob not infected: 0.25\n",
      "prob infected: 0.75\n"
     ]
    }
   ],
   "source": [
    "def prob_not_infected(i,r):\n",
    "    return (1-i)**r\n",
    "\n",
    "def prob_infected(i,r):\n",
    "    return (1-prob_not_infected(i,r))\n",
    "\n",
    "i = 0.5\n",
    "r = 2\n",
    "\n",
    "print(\"prob not infected:\",prob_not_infected(i,r))\n",
    "print(\"prob infected:\",prob_infected(i,r))"
   ]
  },
  {
   "cell_type": "markdown",
   "metadata": {},
   "source": [
    "# 1.b"
   ]
  },
  {
   "cell_type": "code",
   "execution_count": 14,
   "metadata": {},
   "outputs": [],
   "source": [
    "# function for plotting\n",
    "def plot1b(N,k,i,initial_infected_prob,timesteps):\n",
    "    # create network\n",
    "    G = nx.fast_gnp_random_graph(N,k / N)\n",
    "\n",
    "    # infect initial nodes\n",
    "    for node in range(N):\n",
    "        if random.random() < initial_infected_prob:\n",
    "            G.nodes[node]['infected'] = True\n",
    "        else:\n",
    "            G.nodes[node]['infected'] = False\n",
    "\n",
    "    infected_nodes = []\n",
    "\n",
    "    # initiate progress bar\n",
    "    f = IntProgress(min=1, max=timesteps)\n",
    "    display(f)\n",
    "\n",
    "    # perform timesteps\n",
    "    for x in range(timesteps):\n",
    "        # for all nodes\n",
    "        infected_per_timestep = 0\n",
    "        for node in range(N):\n",
    "            if G.nodes[node]['infected'] is True:\n",
    "                infected_per_timestep += 1\n",
    "            # for all neighbors\n",
    "            neighbors = nx.all_neighbors(G,node)\n",
    "            infected_neighbors = 0\n",
    "            for neighbor in neighbors:\n",
    "                if G.nodes[neighbor]['infected'] is True:\n",
    "                    infected_neighbors += 1\n",
    "            # infect node if needed\n",
    "            if random.random() < prob_infected(i,infected_neighbors):\n",
    "                G.nodes[node]['infected'] = True\n",
    "        infected_nodes.append(infected_per_timestep/N)\n",
    "        f.value = x+1 # update progress bar\n",
    "\n",
    "    return infected_nodes"
   ]
  },
  {
   "cell_type": "code",
   "execution_count": 15,
   "metadata": {},
   "outputs": [
    {
     "name": "stdout",
     "output_type": "stream",
     "text": [
      "calculation progress case i\n"
     ]
    },
    {
     "data": {
      "application/vnd.jupyter.widget-view+json": {
       "model_id": "d049eee3e2ca46fcaae599c316a58c5c",
       "version_major": 2,
       "version_minor": 0
      },
      "text/html": [
       "<p>Failed to display Jupyter Widget of type <code>IntProgress</code>.</p>\n",
       "<p>\n",
       "  If you're reading this message in the Jupyter Notebook or JupyterLab Notebook, it may mean\n",
       "  that the widgets JavaScript is still loading. If this message persists, it\n",
       "  likely means that the widgets JavaScript library is either not installed or\n",
       "  not enabled. See the <a href=\"https://ipywidgets.readthedocs.io/en/stable/user_install.html\">Jupyter\n",
       "  Widgets Documentation</a> for setup instructions.\n",
       "</p>\n",
       "<p>\n",
       "  If you're reading this message in another frontend (for example, a static\n",
       "  rendering on GitHub or <a href=\"https://nbviewer.jupyter.org/\">NBViewer</a>),\n",
       "  it may mean that your frontend doesn't currently support widgets.\n",
       "</p>\n"
      ],
      "text/plain": [
       "IntProgress(value=1, max=300, min=1)"
      ]
     },
     "metadata": {},
     "output_type": "display_data"
    },
    {
     "name": "stdout",
     "output_type": "stream",
     "text": [
      "calculation progress case ii\n"
     ]
    },
    {
     "data": {
      "application/vnd.jupyter.widget-view+json": {
       "model_id": "5cd3429e95ba434b9d572b601bbde7e5",
       "version_major": 2,
       "version_minor": 0
      },
      "text/html": [
       "<p>Failed to display Jupyter Widget of type <code>IntProgress</code>.</p>\n",
       "<p>\n",
       "  If you're reading this message in the Jupyter Notebook or JupyterLab Notebook, it may mean\n",
       "  that the widgets JavaScript is still loading. If this message persists, it\n",
       "  likely means that the widgets JavaScript library is either not installed or\n",
       "  not enabled. See the <a href=\"https://ipywidgets.readthedocs.io/en/stable/user_install.html\">Jupyter\n",
       "  Widgets Documentation</a> for setup instructions.\n",
       "</p>\n",
       "<p>\n",
       "  If you're reading this message in another frontend (for example, a static\n",
       "  rendering on GitHub or <a href=\"https://nbviewer.jupyter.org/\">NBViewer</a>),\n",
       "  it may mean that your frontend doesn't currently support widgets.\n",
       "</p>\n"
      ],
      "text/plain": [
       "IntProgress(value=1, max=300, min=1)"
      ]
     },
     "metadata": {},
     "output_type": "display_data"
    }
   ],
   "source": [
    "# set variables\n",
    "initial_infected_prob = 0.001\n",
    "timesteps = 300\n",
    "\n",
    "# case i\n",
    "N = 10**4\n",
    "k = 5.0\n",
    "i = 0.01\n",
    "print(\"calculation progress case i\")\n",
    "case_i = plot1b(N,k,i,initial_infected_prob,timesteps)\n",
    "\n",
    "# case ii\n",
    "N = 10**4\n",
    "k = 0.8\n",
    "i = 0.1\n",
    "print(\"calculation progress case ii\")\n",
    "case_ii = plot1b(N,k,i,initial_infected_prob,timesteps)"
   ]
  },
  {
   "cell_type": "code",
   "execution_count": 16,
   "metadata": {},
   "outputs": [
    {
     "data": {
      "text/plain": [
       "[]"
      ]
     },
     "execution_count": 16,
     "metadata": {},
     "output_type": "execute_result"
    },
    {
     "data": {
      "image/png": "[encoded data removed]",
      "text/plain": [
       "<matplotlib.figure.Figure at 0x7fe3f1cf48d0>"
      ]
     },
     "metadata": {},
     "output_type": "display_data"
    }
   ],
   "source": [
    "# plot\n",
    "plt.xlabel(\"time ->\")\n",
    "plt.ylabel(\"fraction infected\")\n",
    "plt.title(\"Infection in the network over time\")\n",
    "plt.plot(case_i, label = 'case i')\n",
    "plt.plot(case_ii, label = 'case ii')\n",
    "plt.legend()\n",
    "plt.plot()"
   ]
  },
  {
   "cell_type": "markdown",
   "metadata": {},
   "source": [
    "One run already gets a smooth curve =)."
   ]
  },
  {
   "cell_type": "markdown",
   "metadata": {},
   "source": [
    "# 1.c"
   ]
  },
  {
   "cell_type": "markdown",
   "metadata": {},
   "source": [
    "Because < k > is smaller than 1 the graph is classified as subcritical and thus there is no giant component present. Because this is the case speading across the network is not possible because of the low connectivity. The infection stays and grows only in local parts of the network."
   ]
  },
  {
   "cell_type": "markdown",
   "metadata": {},
   "source": [
    "# 1.d"
   ]
  },
  {
   "cell_type": "code",
   "execution_count": 23,
   "metadata": {},
   "outputs": [
    {
     "name": "stdout",
     "output_type": "stream",
     "text": [
      "prob_that_vertex_with_k_neighbors_infects_at_least_one: 0.75\n"
     ]
    }
   ],
   "source": [
    "def prob_that_vertex_with_k_neighbors_infects_at_least_one(i,k):\n",
    "    return prob_infected(i,k)\n",
    "\n",
    "i = 0.5\n",
    "k = 2\n",
    "print(\"prob_that_vertex_with_k_neighbors_infects_at_least_one: \",end=\"\")\n",
    "print(prob_that_vertex_with_k_neighbors_infects_at_least_one(i,k))"
   ]
  },
  {
   "cell_type": "markdown",
   "metadata": {},
   "source": [
    "# 1.e"
   ]
  },
  {
   "cell_type": "code",
   "execution_count": 57,
   "metadata": {},
   "outputs": [
    {
     "name": "stdout",
     "output_type": "stream",
     "text": [
      "calculation progress case i\n",
      "calculation progress case ii\n",
      "case i estimated growth after first step:  5.025041667305885e-05\n",
      "case ii estimated growth after first step:  8.428486035783056e-05\n"
     ]
    }
   ],
   "source": [
    "def estimated_growthrate_first_step(k, N, i, initial_infected):\n",
    "    return prob_infected(i, k * initial_infected)\n",
    "\n",
    "initial_infected_prob = 0.001\n",
    "\n",
    "# case i\n",
    "N = 10**4\n",
    "k = 5.0\n",
    "i = 0.01\n",
    "case_i = estimated_growthrate_first_step(k, N, i, initial_infected_prob)\n",
    "\n",
    "# case ii\n",
    "N = 10**4\n",
    "k = 0.8\n",
    "i = 0.1\n",
    "case_ii = estimated_growthrate_first_step(k, N, i, initial_infected_prob)\n",
    "\n",
    "print('case i estimated growth after first step: ', case_i)\n",
    "print('case ii estimated growth after first step: ', case_ii)"
   ]
  },
  {
   "cell_type": "markdown",
   "metadata": {},
   "source": [
    "# 1.f"
   ]
  },
  {
   "cell_type": "code",
   "execution_count": null,
   "metadata": {},
   "outputs": [],
   "source": []
  },
  {
   "cell_type": "markdown",
   "metadata": {},
   "source": [
    "# 1.h"
   ]
  },
  {
   "cell_type": "code",
   "execution_count": 18,
   "metadata": {},
   "outputs": [],
   "source": [
    "def function_R0_over_time(N,k,i,initial_infected_prob,timesteps,n_simulations):\n",
    "\n",
    "    # initiate progress bar\n",
    "    f = IntProgress(min=0, max=(timesteps*n_simulations))\n",
    "    count = 0\n",
    "    display(f)\n",
    "\n",
    "    R0_avg = [0]*(timesteps-1)\n",
    "\n",
    "    # for every simulation\n",
    "    for s in range(n_simulations):\n",
    "\n",
    "        # create network\n",
    "        G = nx.fast_gnp_random_graph(N,k / N)\n",
    "\n",
    "        # infect initial nodes\n",
    "        for node in range(N):\n",
    "            if random.random() < initial_infected_prob:\n",
    "                G.nodes[node]['infected'] = True\n",
    "            else:\n",
    "                G.nodes[node]['infected'] = False\n",
    "\n",
    "        infected_nodes = []\n",
    "        R0_over_time = []\n",
    "\n",
    "        # perform timesteps\n",
    "        for t in range(timesteps):\n",
    "\n",
    "            # for all nodes\n",
    "            infected_per_timestep = 0\n",
    "            infected_after_timestep = 0\n",
    "            for node in range(N):\n",
    "\n",
    "                # count infected nodes before timestep\n",
    "                if G.nodes[node]['infected'] is True:\n",
    "                    infected_per_timestep += 1\n",
    "\n",
    "                # for all neighbors\n",
    "                neighbors = nx.all_neighbors(G,node)\n",
    "                infected_neighbors = 0\n",
    "                for neighbor in neighbors:\n",
    "                    if G.nodes[neighbor]['infected'] is True:\n",
    "                        infected_neighbors += 1\n",
    "\n",
    "                # infect node if needed\n",
    "                if random.random() < prob_infected(i,infected_neighbors):\n",
    "                    G.nodes[node]['infected'] = True\n",
    "\n",
    "                # count infected nodes after timestep\n",
    "                if G.nodes[node]['infected'] is True:\n",
    "                    infected_after_timestep += 1\n",
    "\n",
    "            # calculate and save R0\n",
    "            if t < timesteps:\n",
    "                R0_over_time.append( (infected_after_timestep - infected_per_timestep) / (infected_per_timestep) )\n",
    "\n",
    "            infected_nodes.append(infected_per_timestep/N)\n",
    "\n",
    "            count += 1\n",
    "            f.value = count # update progress bar\n",
    "\n",
    "        # append R0_over_time to R0_avg\n",
    "        for _ in range(timesteps - 1):\n",
    "            R0_avg[_] += R0_over_time[_]\n",
    "\n",
    "    # average R0_avg by dividing by n_simulations\n",
    "    for value in range(timesteps-1):\n",
    "        R0_avg[value] = R0_avg[value]/n_simulations\n",
    "\n",
    "    return R0_avg"
   ]
  },
  {
   "cell_type": "code",
   "execution_count": 19,
   "metadata": {},
   "outputs": [
    {
     "name": "stdout",
     "output_type": "stream",
     "text": [
      "calculation progress case i\n"
     ]
    },
    {
     "data": {
      "application/vnd.jupyter.widget-view+json": {
       "model_id": "f131763796f3440d914fb07f13bc5b04",
       "version_major": 2,
       "version_minor": 0
      },
      "text/html": [
       "<p>Failed to display Jupyter Widget of type <code>IntProgress</code>.</p>\n",
       "<p>\n",
       "  If you're reading this message in the Jupyter Notebook or JupyterLab Notebook, it may mean\n",
       "  that the widgets JavaScript is still loading. If this message persists, it\n",
       "  likely means that the widgets JavaScript library is either not installed or\n",
       "  not enabled. See the <a href=\"https://ipywidgets.readthedocs.io/en/stable/user_install.html\">Jupyter\n",
       "  Widgets Documentation</a> for setup instructions.\n",
       "</p>\n",
       "<p>\n",
       "  If you're reading this message in another frontend (for example, a static\n",
       "  rendering on GitHub or <a href=\"https://nbviewer.jupyter.org/\">NBViewer</a>),\n",
       "  it may mean that your frontend doesn't currently support widgets.\n",
       "</p>\n"
      ],
      "text/plain": [
       "IntProgress(value=0, max=1500)"
      ]
     },
     "metadata": {},
     "output_type": "display_data"
    },
    {
     "name": "stdout",
     "output_type": "stream",
     "text": [
      "calculation progress case ii\n"
     ]
    },
    {
     "data": {
      "application/vnd.jupyter.widget-view+json": {
       "model_id": "776c10f4dcce494488ea68433f977d3e",
       "version_major": 2,
       "version_minor": 0
      },
      "text/html": [
       "<p>Failed to display Jupyter Widget of type <code>IntProgress</code>.</p>\n",
       "<p>\n",
       "  If you're reading this message in the Jupyter Notebook or JupyterLab Notebook, it may mean\n",
       "  that the widgets JavaScript is still loading. If this message persists, it\n",
       "  likely means that the widgets JavaScript library is either not installed or\n",
       "  not enabled. See the <a href=\"https://ipywidgets.readthedocs.io/en/stable/user_install.html\">Jupyter\n",
       "  Widgets Documentation</a> for setup instructions.\n",
       "</p>\n",
       "<p>\n",
       "  If you're reading this message in another frontend (for example, a static\n",
       "  rendering on GitHub or <a href=\"https://nbviewer.jupyter.org/\">NBViewer</a>),\n",
       "  it may mean that your frontend doesn't currently support widgets.\n",
       "</p>\n"
      ],
      "text/plain": [
       "IntProgress(value=0, max=1500)"
      ]
     },
     "metadata": {},
     "output_type": "display_data"
    }
   ],
   "source": [
    "# set variables\n",
    "initial_infected_prob = 0.1 # should be 0.001, set to lower value for testing since N can than be lower\n",
    "timesteps = 100\n",
    "n_simulations = 15\n",
    "\n",
    "# case i\n",
    "N = 10**3 # should be 10**5, but set to lower value for emulation speed\n",
    "k = 5.0\n",
    "i = 0.01\n",
    "print(\"calculation progress case i\")\n",
    "case_i = function_R0_over_time(N,k,i,initial_infected_prob,timesteps,n_simulations)\n",
    "\n",
    "# case ii\n",
    "N = 10**3 # should be 10**5, but set to lower value for emulation speed\n",
    "k = 0.8\n",
    "i = 0.1\n",
    "print(\"calculation progress case ii\")\n",
    "case_ii = function_R0_over_time(N,k,i,initial_infected_prob,timesteps,n_simulations)"
   ]
  },
  {
   "cell_type": "code",
   "execution_count": 18,
   "metadata": {},
   "outputs": [
    {
     "data": {
      "text/plain": [
       "[]"
      ]
     },
     "execution_count": 18,
     "metadata": {},
     "output_type": "execute_result"
    },
    {
     "data": {
      "image/png": "[encoded data removed]",
      "text/plain": [
       "<Figure size 432x288 with 1 Axes>"
      ]
     },
     "metadata": {
      "needs_background": "light"
     },
     "output_type": "display_data"
    }
   ],
   "source": [
    "# plot\n",
    "plt.xlabel(\"time ->\")\n",
    "plt.ylabel(\"average reproduction number\")\n",
    "plt.title(\"average reproduction number over time\")\n",
    "plt.plot(case_i,label = 'case i')\n",
    "plt.plot(case_ii,label = 'case ii')\n",
    "plt.legend()\n",
    "plt.plot()"
   ]
  },
  {
   "cell_type": "markdown",
   "metadata": {},
   "source": [
    "# 1.g\n",
    "placed after h because it uses the function defined there"
   ]
  },
  {
   "cell_type": "code",
   "execution_count": 25,
   "metadata": {},
   "outputs": [
    {
     "name": "stdout",
     "output_type": "stream",
     "text": [
      "calculation progress case i\n"
     ]
    },
    {
     "data": {
      "application/vnd.jupyter.widget-view+json": {
       "model_id": "828b568a3c0c47188b971cf68945e145",
       "version_major": 2,
       "version_minor": 0
      },
      "text/html": [
       "<p>Failed to display Jupyter Widget of type <code>IntProgress</code>.</p>\n",
       "<p>\n",
       "  If you're reading this message in the Jupyter Notebook or JupyterLab Notebook, it may mean\n",
       "  that the widgets JavaScript is still loading. If this message persists, it\n",
       "  likely means that the widgets JavaScript library is either not installed or\n",
       "  not enabled. See the <a href=\"https://ipywidgets.readthedocs.io/en/stable/user_install.html\">Jupyter\n",
       "  Widgets Documentation</a> for setup instructions.\n",
       "</p>\n",
       "<p>\n",
       "  If you're reading this message in another frontend (for example, a static\n",
       "  rendering on GitHub or <a href=\"https://nbviewer.jupyter.org/\">NBViewer</a>),\n",
       "  it may mean that your frontend doesn't currently support widgets.\n",
       "</p>\n"
      ],
      "text/plain": [
       "IntProgress(value=0, max=60)"
      ]
     },
     "metadata": {},
     "output_type": "display_data"
    },
    {
     "name": "stdout",
     "output_type": "stream",
     "text": [
      "calculation progress case ii\n"
     ]
    },
    {
     "data": {
      "application/vnd.jupyter.widget-view+json": {
       "model_id": "bcc42d479b454cd7aa4d7d7df6f7a89e",
       "version_major": 2,
       "version_minor": 0
      },
      "text/html": [
       "<p>Failed to display Jupyter Widget of type <code>IntProgress</code>.</p>\n",
       "<p>\n",
       "  If you're reading this message in the Jupyter Notebook or JupyterLab Notebook, it may mean\n",
       "  that the widgets JavaScript is still loading. If this message persists, it\n",
       "  likely means that the widgets JavaScript library is either not installed or\n",
       "  not enabled. See the <a href=\"https://ipywidgets.readthedocs.io/en/stable/user_install.html\">Jupyter\n",
       "  Widgets Documentation</a> for setup instructions.\n",
       "</p>\n",
       "<p>\n",
       "  If you're reading this message in another frontend (for example, a static\n",
       "  rendering on GitHub or <a href=\"https://nbviewer.jupyter.org/\">NBViewer</a>),\n",
       "  it may mean that your frontend doesn't currently support widgets.\n",
       "</p>\n"
      ],
      "text/plain": [
       "IntProgress(value=0, max=60)"
      ]
     },
     "metadata": {},
     "output_type": "display_data"
    }
   ],
   "source": [
    "# set variables\n",
    "initial_infected_prob = 0.001\n",
    "timesteps = 3\n",
    "n_simulations = 20\n",
    "\n",
    "# case i\n",
    "N = 10**5 # should be 10**5, but set to lower value for emulation speed\n",
    "k = 5.0\n",
    "i = 0.01\n",
    "print(\"calculation progress case i\")\n",
    "case_i = function_R0_over_time(N,k,i,initial_infected_prob,timesteps,n_simulations)\n",
    "\n",
    "# case ii\n",
    "N = 10**5 # should be 10**5, but set to lower value for emulation speed\n",
    "k = 0.8\n",
    "i = 0.1\n",
    "print(\"calculation progress case ii\")\n",
    "case_ii = function_R0_over_time(N,k,i,initial_infected_prob,timesteps,n_simulations)"
   ]
  },
  {
   "cell_type": "code",
   "execution_count": 26,
   "metadata": {},
   "outputs": [
    {
     "name": "stdout",
     "output_type": "stream",
     "text": [
      "R0 in beginning case i: 0.04666945019714476\n",
      "R0 in beginning case ii: 0.07003198450538498\n"
     ]
    }
   ],
   "source": [
    "# beginning is 3 timesteps\n",
    "# takes the average over n_simulations\n",
    "\n",
    "print(\"R0 in beginning case i:\",sum(case_i)/float(len(case_i)))\n",
    "print(\"R0 in beginning case ii:\",sum(case_ii)/float(len(case_ii)))"
   ]
  },
  {
   "cell_type": "markdown",
   "metadata": {},
   "source": [
    "# 1.i"
   ]
  },
  {
   "cell_type": "code",
   "execution_count": null,
   "metadata": {},
   "outputs": [],
   "source": []
  },
  {
   "cell_type": "markdown",
   "metadata": {},
   "source": [
    "# 1.j"
   ]
  },
  {
   "cell_type": "code",
   "execution_count": null,
   "metadata": {},
   "outputs": [],
   "source": []
  }
 ],
 "metadata": {
  "kernelspec": {
   "display_name": "Python 3",
   "language": "python",
   "name": "python3"
  },
  "language_info": {
   "codemirror_mode": {
    "name": "ipython",
    "version": 3
   },
   "file_extension": ".py",
   "mimetype": "text/x-python",
   "name": "python",
   "nbconvert_exporter": "python",
   "pygments_lexer": "ipython3",
   "version": "3.6.4"
  }
 },
 "nbformat": 4,
 "nbformat_minor": 2
}
