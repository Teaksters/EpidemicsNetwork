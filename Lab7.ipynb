{
 "cells": [
  {
   "cell_type": "markdown",
   "metadata": {},
   "source": [
    "# Questions"
   ]
  },
  {
   "cell_type": "markdown",
   "metadata": {},
   "source": [
    "# 1.a"
   ]
  },
  {
   "cell_type": "code",
   "execution_count": null,
   "metadata": {},
   "outputs": [],
   "source": [
    "import matplotlib.pyplot as plt\n",
    "import collections\n",
    "import networkx as nx\n",
    "import numpy as np\n",
    "import scipy as sp\n",
    "import random\n",
    "\n",
    "# progress bar\n",
    "from ipywidgets import IntProgress\n",
    "from IPython.display import display"
   ]
  },
  {
   "cell_type": "code",
   "execution_count": null,
   "metadata": {},
   "outputs": [],
   "source": [
    "G = nx.Graph()\n",
    "\n",
    "# Add network\n",
    "G.add_edge(1, 2)\n",
    "G.add_edge(2, 3)\n",
    "G.add_edge(3, 4)\n",
    "G.add_edge(3, 5)\n",
    "G.add_edge(4, 5)\n",
    "\n",
    "# set layout\n",
    "pos = {1:(1,1),2:(1,3.5),3:(2,2),4:(2,5),5:(3,4)}\n",
    "\n",
    "# draw nodes\n",
    "nx.draw_networkx_nodes(G, pos, alpha=0.3)\n",
    "\n",
    "# draw edges\n",
    "nx.draw_networkx_edges(G, pos, width=3, alpha=0.3, edge_color='b')\n",
    "\n",
    "# draw labels\n",
    "nx.draw_networkx_labels(G, pos, font_size=16)\n",
    "\n",
    "# plot plot\n",
    "plt.axis('off')\n",
    "plt.show()\n"
   ]
  },
  {
   "cell_type": "code",
   "execution_count": null,
   "metadata": {},
   "outputs": [],
   "source": [
    "# Degree histogram\n",
    "degree_sequence = sorted([d for n, d in G.degree()], reverse=True)\n",
    "\n",
    "degreeCount = collections.Counter(degree_sequence)\n",
    "deg, cnt = zip(*degreeCount.items())\n",
    "\n",
    "fig, ax = plt.subplots()\n",
    "plt.bar(deg, cnt)\n",
    "\n",
    "plt.title(\"Degree Histogram\")\n",
    "plt.ylabel(\"Count\")\n",
    "plt.xlabel(\"Degree\")\n",
    "ax.set_xticks([d for d in deg])\n",
    "ax.set_yticks([c for c in cnt])\n",
    "plt.show()"
   ]
  },
  {
   "cell_type": "markdown",
   "metadata": {},
   "source": [
    "# 1.b"
   ]
  },
  {
   "cell_type": "code",
   "execution_count": null,
   "metadata": {},
   "outputs": [],
   "source": [
    "# create adjacency matrix\n",
    "amatrix = nx.adjacency_matrix(G)\n",
    "amatrix = amatrix.todense()\n",
    "print(amatrix)"
   ]
  },
  {
   "cell_type": "markdown",
   "metadata": {},
   "source": [
    "# 1.c"
   ]
  },
  {
   "cell_type": "code",
   "execution_count": null,
   "metadata": {},
   "outputs": [],
   "source": [
    "# degree centrality\n",
    "# the sum of the line of the adjency matrix corresponding to each node, divided by (the number of nodes -1) \n",
    "print(\"the degree centrality for nodes\")\n",
    "degree_centrality = {}\n",
    "for i in range(len(amatrix)):\n",
    "    degree_centrality[i+1] = np.sum(amatrix[i])/(len(amatrix)-1)\n",
    "print(degree_centrality,\"\\n\")\n",
    "\n",
    "# degree closeness\n",
    "# per node the sum of te closest distances to other nodes, divided by the nodes-1, to the power -1\n",
    "print(\"the closeness centrality for nodes\")\n",
    "closeness_centrality ={}\n",
    "closeness_centrality[1] = ((1+2+3+3)/4)**-1\n",
    "closeness_centrality[2] = ((1+1+2+2)/4)**-1\n",
    "closeness_centrality[3] = ((2+1+1+1)/4)**-1\n",
    "closeness_centrality[4] = ((1+1+2+3)/4)**-1\n",
    "closeness_centrality[5] = ((1+1+2+3)/4)**-1\n",
    "print(closeness_centrality)"
   ]
  },
  {
   "cell_type": "code",
   "execution_count": null,
   "metadata": {},
   "outputs": [],
   "source": [
    "# calculated using a library to check for correctness\n",
    "print(\"the degree centrality for nodes\")\n",
    "print(nx.degree_centrality(G),\"\\n\")\n",
    "print(\"the closeness centrality for nodes\")\n",
    "print(nx.closeness_centrality(G))"
   ]
  },
  {
   "cell_type": "markdown",
   "metadata": {},
   "source": [
    "# 1.d"
   ]
  },
  {
   "cell_type": "code",
   "execution_count": null,
   "metadata": {},
   "outputs": [],
   "source": [
    "''''You want to know the amount of 1's you have in each row of the adjacency matrix. \n",
    "If you want to know you can just multiply the adjacency matrix with a vector full of 1's. This will leave \n",
    "the amount of ones in each row in the corresponding 'row' of the vector.'''\n",
    "\n",
    "countVec = np.array([1] * len(amatrix))\n",
    "countVec = np.array(amatrix) @ countVec\n",
    "\n",
    "print(\"The vector of the degree per vertex:\")\n",
    "for i in range(len(countVec)):\n",
    "    print(\"node\",i+1,\"->\", countVec[i])"
   ]
  },
  {
   "cell_type": "markdown",
   "metadata": {},
   "source": [
    "# 1.e"
   ]
  },
  {
   "cell_type": "code",
   "execution_count": null,
   "metadata": {},
   "outputs": [],
   "source": [
    "H = nx.DiGraph()\n",
    "\n",
    "# Add network\n",
    "H.add_edge(1, 2)\n",
    "H.add_edge(2, 3)\n",
    "H.add_edge(3, 4)\n",
    "H.add_edge(3, 5)\n",
    "H.add_edge(4, 5)\n",
    "\n",
    "pos = {1:(1,1),2:(1,3.5),3:(2,2),4:(2,5),5:(3,4)}\n",
    "nx.draw_networkx_nodes(H, pos, alpha=0.3)\n",
    "nx.draw_networkx_edges(H, pos, width=3, alpha=0.3, edge_color='b')\n",
    "nx.draw_networkx_labels(H, pos, font_size=16)\n",
    "plt.axis('off')\n",
    "plt.show()\n",
    "\n",
    "\n",
    "H = nx.DiGraph()\n",
    "\n",
    "# Add network\n",
    "H.add_edge(2, 1)\n",
    "H.add_edge(2, 3)\n",
    "H.add_edge(3, 4)\n",
    "H.add_edge(3, 5)\n",
    "H.add_edge(4, 5)\n",
    "\n",
    "pos = {1:(1,1),2:(1,3.5),3:(2,2),4:(2,5),5:(3,4)}\n",
    "nx.draw_networkx_nodes(H, pos, alpha=0.3)\n",
    "nx.draw_networkx_edges(H, pos, width=3, alpha=0.3, edge_color='b')\n",
    "nx.draw_networkx_labels(H, pos, font_size=16)\n",
    "plt.axis('off')\n",
    "plt.show()\n",
    "\n"
   ]
  },
  {
   "cell_type": "markdown",
   "metadata": {},
   "source": [
    "As can be seen from the two plotted networks, between node 1 and node 2 only two possible directions can exist. In the top plot, from node 2 node 1 can't be reached. In the bottom plot, from node 1 node 2 and any of the other nodes can't be reached, The same goes for the connection between 2 and 3. There is no alternative route you could take. Thus, no such ’directionalization’ exists such that from all vertices you could reach (or infect) the entire network."
   ]
  },
  {
   "cell_type": "markdown",
   "metadata": {},
   "source": [
    "# 1.f"
   ]
  },
  {
   "cell_type": "code",
   "execution_count": null,
   "metadata": {},
   "outputs": [],
   "source": [
    "# https://www.geeksforgeeks.org/clustering-coefficient-graph-theory/\n",
    "print(\"Local clustering coefficient\")\n",
    "print(nx.clustering(G))"
   ]
  },
  {
   "cell_type": "markdown",
   "metadata": {},
   "source": [
    "# 1.g"
   ]
  },
  {
   "cell_type": "code",
   "execution_count": null,
   "metadata": {},
   "outputs": [],
   "source": [
    "G = nx.Graph()\n",
    "\n",
    "# add network\n",
    "G.add_edge(1, 2)\n",
    "G.add_edge(2, 3)\n",
    "G.add_edge(3, 4)\n",
    "G.add_edge(3, 5)\n",
    "G.add_edge(4, 5)\n",
    "\n",
    "# add minimum number of edges (5) so that the clustering coefficient is 1 for every vertex\n",
    "# this is the minimum because every vertex has to be connected to overy other vertex\n",
    "G.add_edge(1, 3)\n",
    "G.add_edge(1, 4)\n",
    "G.add_edge(1, 5)\n",
    "G.add_edge(2, 4)\n",
    "G.add_edge(2, 5)\n",
    "\n",
    "# set layout\n",
    "pos = nx.spring_layout(G)\n",
    "\n",
    "# draw nodes\n",
    "nx.draw_networkx_nodes(G, pos, alpha=0.3)\n",
    "\n",
    "# draw edges\n",
    "nx.draw_networkx_edges(G, pos, width=3, alpha=0.3, edge_color='b')\n",
    "\n",
    "# draw labels\n",
    "nx.draw_networkx_labels(G, pos, font_size=16)\n",
    "\n",
    "# plot plot\n",
    "plt.axis('off')\n",
    "plt.show()\n",
    "\n",
    "print(\"5 edges need to be added for the following local clustering coefficients:\")\n",
    "print(nx.clustering(G))"
   ]
  },
  {
   "cell_type": "markdown",
   "metadata": {},
   "source": [
    "Only 5 edges need to be added, because for every node to have a local clustering coefficient of 1. That would mean that every cell's neigbors must form a clique together. Which would then mean that every cell would need to be in a clique with every other cell, thus the graph needs to be a clique and thus be a complete graph. For a graph to be complete it needs n(n - 1) / 2 edges. Which in this case would be 5 * 4 / 2 = 10 edges. As we had 5 already, we indeed just needed to add another 5 to transform G into a complete graph and leave every node with a local clustering coefficient of 1."
   ]
  },
  {
   "cell_type": "markdown",
   "metadata": {},
   "source": [
    "# 2.a"
   ]
  },
  {
   "cell_type": "markdown",
   "metadata": {},
   "source": [
    "![title](lab7_img/2a.jpg)\n",
    "\n",
    "The right type of probability distribution is binominal. For big N's the probability distribution will be a poisson distribution. The expected value of k for a single vertex will always be the avarage k as this will be most likely for a randomly connected graph such as a Erdos-Reyni network. \n",
    "\n",
    "\\begin{align}\n",
    "    P(deg(v) = k) = \\binom{n - 1}{k}P^k\\cdot (1-P)^{n - 1 - k}\n",
    "\\end{align}\n",
    "\n",
    "As for bigger or non-static graphs finding N can be difficult or even impossible there is another distribution which works for graphs where n -> $\\infty$, basically big graphs and np = constant. this would be the poisson distribution:\n",
    "\n",
    "\\begin{align}\n",
    "    P(deg(v) = k) = \\frac{np^k \\cdot e^{-np}}{k!}\n",
    "\\end{align}"
   ]
  },
  {
   "cell_type": "markdown",
   "metadata": {},
   "source": [
    "# 2.b"
   ]
  },
  {
   "cell_type": "markdown",
   "metadata": {},
   "source": [
    "information comes from: https://math.stackexchange.com/questions/2198231/for-a-vertex-with-degree-k-what-is-the-probability-that-its-clustering-coeffi\n",
    "\n",
    "There are $\\binom{k}{2}$ potential edges among the vertex's neighbors. For each such edge, the probability for it to be in the random graph is p. Thus the total number of edges, denoted as X, among the neighbors follow the binomial distribution. Which is:\n",
    "\n",
    "$$\n",
    "P\\left(\\frac{X}{\\binom{k}{2}} \\ | \\ t \\right) = P\\left(X \\ | \\ t(\\binom{k}{2}) \\right) = \\binom{\\binom{k}{2}}{t\\cdot \\binom{k}{2}}\\cdot P^{t\\cdot \\binom{k}{2}}\\cdot (1-P)^{\\binom{k}{2}-t\\cdot \\binom{k}{2}}\n",
    "$$"
   ]
  },
  {
   "cell_type": "markdown",
   "metadata": {},
   "source": [
    "# 2.c"
   ]
  },
  {
   "cell_type": "markdown",
   "metadata": {},
   "source": [
    "source used: https://math.stackexchange.com/questions/2200452/expected-local-clustering-coefficient-for-a-node-in-a-network\n",
    "\n",
    "x is the vertex we are examining.\n",
    "\n",
    "The local clustering coefficient of a vertex x in graph G is the fraction of vertex pairs in the neighborhood of x that have an edge between them.\n",
    "\n",
    "The expected local clustering coefficient is\n",
    "\n",
    "\\begin{align}\n",
    "    E[c(x)] = \\\\ E[E[c(x)|x]] = \\\\ E\\left [E \\left [\\frac{N_{neighbor \\ edges \\ x}}{\\binom{k}{2}} | x\\right]\\right] = \\\\\n",
    "    E\\left[\\sum_{i = 0}^{\\binom{k}{2}} binom(i, k, p) \\frac{i}{\\binom{k}{2}} | x\\right] =\\\\\n",
    "    \\sum_{k = 0}^{N-1} P(deg = k) \\sum_{i = 0}^{\\binom{k}{2}} binom(i, k, p) \\frac{i}{\\binom{k}{2}} = \\\\\n",
    "    \\sum_{k = 0}^{N-1} P(deg = k) \\sum_{i = 0}^{\\binom{k}{2}} binom(i, \\binom{k}{2}, p)\n",
    "\\end{align}\n",
    "Ofcourse it is important to note that $Binom(i, \\binom{k}{2}, p) = \\frac{i}{k(k-1) / 2}$ and that $\\binom{k}{2} = k(k - 1) / 2$"
   ]
  },
  {
   "cell_type": "markdown",
   "metadata": {},
   "source": [
    "# 2.d"
   ]
  },
  {
   "cell_type": "markdown",
   "metadata": {},
   "source": [
    "NE is the collection of edges that are between the neighbors of x.\n",
    "\n",
    "For this anwer the same source as the one above mentioned was used.\n",
    "\n",
    "\\begin{align}\n",
    "E\\left [E \\left [\\frac{N_{neighbor \\ edges \\ x}}{\\binom{k}{2}} | x\\right]\\right] = \\\\\n",
    "E\\left [\\frac{1}{\\binom{k}{2}} \\sum_{i\\in NE}E \\left [1 | x \\right] \\right] = \\\\\n",
    "E\\left [\\frac{1}{\\binom{k}{2}} \\sum_{i\\in NE} P(edge \\in NE | x) \\right] = \\\\\n",
    "E\\left [\\frac{1}{\\binom{k}{2}} \\sum_{i\\in NE} p \\right] = \\\\\n",
    "E\\left [\\frac{1}{\\binom{k}{2}} p \\binom{k}{2}\\right] = \\\\ p\n",
    "\\end{align}"
   ]
  },
  {
   "cell_type": "markdown",
   "metadata": {},
   "source": [
    "# 2.e"
   ]
  },
  {
   "cell_type": "markdown",
   "metadata": {},
   "source": [
    "The expected degree denoted as $< k >$ of a graph is equal to (n - 1)p. This is the case as p is the chance there is a connection between any of the nodes in the graph. And because there are n nodes minus itself so n - 1 nodes the node can connect with. Thus the expected degree of any node would be (n - 1)p = $< k >$. For large graphs the mean k will be usually near 50. As can be seen from the Poission distribution here: \n",
    "![title](lab7_img/2e.jpg)"
   ]
  },
  {
   "cell_type": "markdown",
   "metadata": {},
   "source": [
    "# Epidemics"
   ]
  },
  {
   "cell_type": "markdown",
   "metadata": {},
   "source": [
    "# 1.a"
   ]
  },
  {
   "cell_type": "code",
   "execution_count": null,
   "metadata": {},
   "outputs": [],
   "source": [
    "def prob_not_infected(i,r):\n",
    "    return (1-i)**r\n",
    "\n",
    "def prob_infected(i,r):\n",
    "    return (1-prob_not_infected(i,r))\n",
    "\n",
    "i = 0.5\n",
    "r = 2\n",
    "\n",
    "print(\"prob not infected:\",prob_not_infected(i,r))\n",
    "print(\"prob infected:\",prob_infected(i,r))"
   ]
  },
  {
   "cell_type": "markdown",
   "metadata": {},
   "source": [
    "# 1.b"
   ]
  },
  {
   "cell_type": "code",
   "execution_count": null,
   "metadata": {},
   "outputs": [],
   "source": [
    "# function for plotting\n",
    "def plot1b(N,k,i,initial_infected_prob,timesteps):\n",
    "    # create network\n",
    "    G = nx.fast_gnp_random_graph(N,k / N)\n",
    "\n",
    "    # infect initial nodes\n",
    "    for node in range(N):\n",
    "        if random.random() < initial_infected_prob:\n",
    "            G.nodes[node]['infected'] = True\n",
    "        else:\n",
    "            G.nodes[node]['infected'] = False\n",
    "\n",
    "    infected_nodes = []\n",
    "\n",
    "    # initiate progress bar\n",
    "    f = IntProgress(min=1, max=timesteps)\n",
    "    display(f)\n",
    "\n",
    "    # perform timesteps\n",
    "    for x in range(timesteps):\n",
    "        # for all nodes\n",
    "        infected_per_timestep = 0\n",
    "        for node in range(N):\n",
    "            if G.nodes[node]['infected'] is True:\n",
    "                infected_per_timestep += 1\n",
    "            # for all neighbors\n",
    "            neighbors = nx.all_neighbors(G,node)\n",
    "            infected_neighbors = 0\n",
    "            for neighbor in neighbors:\n",
    "                if G.nodes[neighbor]['infected'] is True:\n",
    "                    infected_neighbors += 1\n",
    "            # infect node if needed\n",
    "            if random.random() < prob_infected(i,infected_neighbors):\n",
    "                G.nodes[node]['infected'] = True\n",
    "        infected_nodes.append(infected_per_timestep/N)\n",
    "        f.value = x+1 # update progress bar\n",
    "\n",
    "    return infected_nodes"
   ]
  },
  {
   "cell_type": "code",
   "execution_count": null,
   "metadata": {},
   "outputs": [],
   "source": [
    "# set variables\n",
    "initial_infected_prob = 0.001\n",
    "timesteps = 300\n",
    "\n",
    "# case i\n",
    "N = 10**4\n",
    "k = 5.0\n",
    "i = 0.01\n",
    "print(\"calculation progress case i\")\n",
    "case_iB = plot1b(N,k,i,initial_infected_prob,timesteps)\n",
    "\n",
    "# case ii\n",
    "N = 10**4\n",
    "k = 0.8\n",
    "i = 0.1\n",
    "print(\"calculation progress case ii\")\n",
    "case_iiB = plot1b(N,k,i,initial_infected_prob,timesteps)"
   ]
  },
  {
   "cell_type": "code",
   "execution_count": null,
   "metadata": {},
   "outputs": [],
   "source": [
    "# plot\n",
    "plt.xlabel(\"time ->\")\n",
    "plt.ylabel(\"fraction infected\")\n",
    "plt.title(\"Infection in the network over time\")\n",
    "plt.plot(case_iB, label = 'case i')\n",
    "plt.plot(case_iiB, label = 'case ii')\n",
    "plt.legend()\n",
    "plt.plot()"
   ]
  },
  {
   "cell_type": "markdown",
   "metadata": {},
   "source": [
    "One run already gets a smooth curve =)."
   ]
  },
  {
   "cell_type": "markdown",
   "metadata": {},
   "source": [
    "# 1.c"
   ]
  },
  {
   "cell_type": "markdown",
   "metadata": {},
   "source": [
    "Because < k > is smaller than 1 the graph is classified as subcritical and thus there is no giant component present. Because this is the case speading across the network is not possible because of the low connectivity. The infection stays and grows only in local parts of the network."
   ]
  },
  {
   "cell_type": "markdown",
   "metadata": {},
   "source": [
    "# 1.d"
   ]
  },
  {
   "cell_type": "code",
   "execution_count": null,
   "metadata": {},
   "outputs": [],
   "source": [
    "def prob_that_vertex_with_k_neighbors_infects_at_least_one(i,k):\n",
    "    return prob_infected(i,k)\n",
    "\n",
    "i = 0.5\n",
    "k = 2\n",
    "print(\"prob_that_vertex_with_k_neighbors_infects_at_least_one: \",end=\"\")\n",
    "print(prob_that_vertex_with_k_neighbors_infects_at_least_one(i,k))"
   ]
  },
  {
   "cell_type": "markdown",
   "metadata": {},
   "source": [
    "# 1.e"
   ]
  },
  {
   "cell_type": "code",
   "execution_count": null,
   "metadata": {},
   "outputs": [],
   "source": [
    "def estimated_growthrate_first_step(k, N, i, initial_infected):\n",
    "    return prob_infected(i, k * initial_infected)\n",
    "\n",
    "initial_infected_prob = 0.001\n",
    "\n",
    "# case i\n",
    "N = 10**4\n",
    "k = 5.0\n",
    "i = 0.01\n",
    "case_i = estimated_growthrate_first_step(k, N, i, initial_infected_prob)\n",
    "\n",
    "# case ii\n",
    "N = 10**4\n",
    "k = 0.8\n",
    "i = 0.1\n",
    "case_ii = estimated_growthrate_first_step(k, N, i, initial_infected_prob)\n",
    "\n",
    "print('case i estimated growth after first step: ', case_i)\n",
    "print('case ii estimated growth after first step: ', case_ii)"
   ]
  },
  {
   "cell_type": "markdown",
   "metadata": {},
   "source": [
    "# 1.f"
   ]
  },
  {
   "cell_type": "code",
   "execution_count": null,
   "metadata": {},
   "outputs": [],
   "source": []
  },
  {
   "cell_type": "markdown",
   "metadata": {},
   "source": [
    "# 1.h"
   ]
  },
  {
   "cell_type": "code",
   "execution_count": null,
   "metadata": {},
   "outputs": [],
   "source": [
    "def function_R0_over_time(N,k,i,initial_infected_prob,timesteps,n_simulations):\n",
    "\n",
    "    # initiate progress bar\n",
    "    f = IntProgress(min=0, max=(timesteps*n_simulations))\n",
    "    count = 0\n",
    "    display(f)\n",
    "\n",
    "    R0_avg = [0]*(timesteps-1)\n",
    "\n",
    "    # for every simulation\n",
    "    for s in range(n_simulations):\n",
    "\n",
    "        # create network\n",
    "        G = nx.fast_gnp_random_graph(N,k / N)\n",
    "\n",
    "        # infect initial nodes\n",
    "        for node in range(N):\n",
    "            if random.random() < initial_infected_prob:\n",
    "                G.nodes[node]['infected'] = True\n",
    "            else:\n",
    "                G.nodes[node]['infected'] = False\n",
    "\n",
    "        infected_nodes = []\n",
    "        R0_over_time = []\n",
    "\n",
    "        # perform timesteps\n",
    "        for t in range(timesteps):\n",
    "\n",
    "            # for all nodes\n",
    "            infected_per_timestep = 0\n",
    "            infected_after_timestep = 0\n",
    "            for node in range(N):\n",
    "\n",
    "                # count infected nodes before timestep\n",
    "                if G.nodes[node]['infected'] is True:\n",
    "                    infected_per_timestep += 1\n",
    "\n",
    "                # for all neighbors\n",
    "                neighbors = nx.all_neighbors(G,node)\n",
    "                infected_neighbors = 0\n",
    "                for neighbor in neighbors:\n",
    "                    if G.nodes[neighbor]['infected'] is True:\n",
    "                        infected_neighbors += 1\n",
    "\n",
    "                # infect node if needed\n",
    "                if random.random() < prob_infected(i,infected_neighbors):\n",
    "                    G.nodes[node]['infected'] = True\n",
    "\n",
    "                # count infected nodes after timestep\n",
    "                if G.nodes[node]['infected'] is True:\n",
    "                    infected_after_timestep += 1\n",
    "\n",
    "            # calculate and save R0\n",
    "            if t < timesteps:\n",
    "                R0_over_time.append( (infected_after_timestep - infected_per_timestep) / (infected_per_timestep) )\n",
    "\n",
    "            infected_nodes.append(infected_per_timestep/N)\n",
    "\n",
    "            count += 1\n",
    "            f.value = count # update progress bar\n",
    "\n",
    "        # append R0_over_time to R0_avg\n",
    "        for _ in range(timesteps - 1):\n",
    "            R0_avg[_] += R0_over_time[_]\n",
    "\n",
    "    # average R0_avg by dividing by n_simulations\n",
    "    for value in range(timesteps-1):\n",
    "        R0_avg[value] = R0_avg[value]/n_simulations\n",
    "\n",
    "    return R0_avg"
   ]
  },
  {
   "cell_type": "code",
   "execution_count": null,
   "metadata": {},
   "outputs": [],
   "source": [
    "# set variables\n",
    "initial_infected_prob = 0.1 # should be 0.001, set to lower value for testing since N can than be lower\n",
    "timesteps = 100\n",
    "n_simulations = 15\n",
    "\n",
    "# case i\n",
    "N = 10**3 # should be 10**5, but set to lower value for emulation speed\n",
    "k = 5.0\n",
    "i = 0.01\n",
    "print(\"calculation progress case i\")\n",
    "case_i = function_R0_over_time(N,k,i,initial_infected_prob,timesteps,n_simulations)\n",
    "\n",
    "# case ii\n",
    "N = 10**3 # should be 10**5, but set to lower value for emulation speed\n",
    "k = 0.8\n",
    "i = 0.1\n",
    "print(\"calculation progress case ii\")\n",
    "case_ii = function_R0_over_time(N,k,i,initial_infected_prob,timesteps,n_simulations)"
   ]
  },
  {
   "cell_type": "code",
   "execution_count": null,
   "metadata": {},
   "outputs": [],
   "source": [
    "# plot\n",
    "plt.xlabel(\"time ->\")\n",
    "plt.ylabel(\"average reproduction number\")\n",
    "plt.title(\"average reproduction number over time\")\n",
    "plt.plot(case_i,label = 'case i')\n",
    "plt.plot(case_ii,label = 'case ii')\n",
    "plt.legend()\n",
    "plt.plot()"
   ]
  },
  {
   "cell_type": "markdown",
   "metadata": {},
   "source": [
    "# 1.g\n",
    "placed after h because it uses the function defined there"
   ]
  },
  {
   "cell_type": "code",
   "execution_count": null,
   "metadata": {},
   "outputs": [],
   "source": [
    "# set variables\n",
    "initial_infected_prob = 0.001\n",
    "timesteps = 3\n",
    "n_simulations = 20\n",
    "\n",
    "# case i\n",
    "N = 10**5 # should be 10**5, but set to lower value for emulation speed\n",
    "k = 5.0\n",
    "i = 0.01\n",
    "print(\"calculation progress case i\")\n",
    "case_i = function_R0_over_time(N,k,i,initial_infected_prob,timesteps,n_simulations)\n",
    "\n",
    "# case ii\n",
    "N = 10**5 # should be 10**5, but set to lower value for emulation speed\n",
    "k = 0.8\n",
    "i = 0.1\n",
    "print(\"calculation progress case ii\")\n",
    "case_ii = function_R0_over_time(N,k,i,initial_infected_prob,timesteps,n_simulations)"
   ]
  },
  {
   "cell_type": "code",
   "execution_count": null,
   "metadata": {},
   "outputs": [],
   "source": [
    "# beginning is 3 timesteps\n",
    "# takes the average over n_simulations\n",
    "\n",
    "print(\"R0 in beginning case i:\",sum(case_i)/float(len(case_i)))\n",
    "print(\"R0 in beginning case ii:\",sum(case_ii)/float(len(case_ii)))"
   ]
  },
  {
   "cell_type": "markdown",
   "metadata": {},
   "source": [
    "# 1.i"
   ]
  },
  {
   "cell_type": "code",
   "execution_count": null,
   "metadata": {},
   "outputs": [],
   "source": []
  },
  {
   "cell_type": "markdown",
   "metadata": {},
   "source": [
    "# 1.j"
   ]
  },
  {
   "cell_type": "code",
   "execution_count": null,
   "metadata": {},
   "outputs": [],
   "source": []
  },
  {
   "cell_type": "code",
   "execution_count": null,
   "metadata": {},
   "outputs": [],
   "source": []
  },
  {
   "cell_type": "code",
   "execution_count": null,
   "metadata": {},
   "outputs": [],
   "source": []
  },
  {
   "cell_type": "code",
   "execution_count": null,
   "metadata": {},
   "outputs": [],
   "source": []
  },
  {
   "cell_type": "code",
   "execution_count": null,
   "metadata": {},
   "outputs": [],
   "source": []
  },
  {
   "cell_type": "code",
   "execution_count": null,
   "metadata": {},
   "outputs": [],
   "source": []
  },
  {
   "cell_type": "code",
   "execution_count": null,
   "metadata": {},
   "outputs": [],
   "source": []
  },
  {
   "cell_type": "markdown",
   "metadata": {},
   "source": [
    "# 2. a"
   ]
  },
  {
   "cell_type": "markdown",
   "metadata": {},
   "source": [
    "We cannot use $i$ as $b$ is different from $i$, since $b$ has to take into account the topology of the network. There might be some nodes that are infected already and thus cannot be infected anymore. These will slow down the spreadrate, which if you just say that $i = b$ would not be the case."
   ]
  },
  {
   "cell_type": "markdown",
   "metadata": {},
   "source": [
    "# 2. b"
   ]
  },
  {
   "cell_type": "markdown",
   "metadata": {},
   "source": [
    "\\begin{align}\n",
    "    (1 - (1 - b)^I ) \\cdot S = (1 - (1 - i)^{\\frac{<k>}{N}I} ) \\cdot S \\\\\n",
    "    1 - (1 - b)^I = 1 - (1 - i)^{\\frac{<k>}{N}I} \\\\\n",
    "    (1 - b)^I = (1 - i)^{\\frac{<k>}{N}I} \\\\\n",
    "    1 - b = \\sqrt[I]{(1 - i)^{\\frac{<k>}{N}I}} \\\\\n",
    "    b = 1 - \\sqrt[I]{(1 - i)^{\\frac{<k>}{N}I}} \\\\\n",
    "\\end{align}"
   ]
  },
  {
   "cell_type": "markdown",
   "metadata": {},
   "source": [
    "# 2. c"
   ]
  },
  {
   "cell_type": "markdown",
   "metadata": {},
   "source": [
    "case (i):\n",
    "\\begin{align}\n",
    "    b = 1 - \\sqrt[I]{(1 - i)^{\\frac{<k>}{N}I}} \\\\\n",
    "    \\approx 5.03 \\cdot 10^{-7}\n",
    "\\end{align}\n",
    "\n",
    "case (ii):\n",
    "\\begin{align}\n",
    "    b = 1 - \\sqrt[I]{(1 - i)^{\\frac{<k>}{N}I}} \\\\\n",
    "    \\approx 8.43 \\cdot 10^{-7}\n",
    "\\end{align}"
   ]
  },
  {
   "cell_type": "markdown",
   "metadata": {},
   "source": [
    "# 3. a"
   ]
  },
  {
   "cell_type": "markdown",
   "metadata": {},
   "source": [
    "It is important to first note that $I(t)$ and $S(t)$ need to expressed in the form that we found with $b$ plugged in. And the derivative is necessary for the Euler algorithm. Thus:\n",
    "\\begin{align}\n",
    "\\frac{dI}{dt} = (1 - (1 - b)^{I(t)}) \\cdot S(t) \\\\\n",
    "=(1 - (1 - \\left(1 - \\sqrt[I(t)]{(1 - i)^{\\frac{<k>}{N}I(t)}})^{I(t)}\\right)) \\cdot S(t) \\\\\n",
    "= \\left(1 - \\sqrt[I(t)]{(1 - i)^{\\frac{<k>}{N}I(t)}}\\right)^{I(t)} \\cdot S(t)\\\\\n",
    "\\frac{dS}{dt} = -(1 - (1 - b)^{I(t)}) \\cdot S(t)\\\\\n",
    "    = -(1 - (1 - \\left(1 - \\sqrt[I(t)]{(1 - i)^{\\frac{<k>}{N}I(t)}}\\right)^{I(t)})) \\cdot S(t)\\\\\n",
    "    = -\\left(1 - \\sqrt[I(t)]{(1 - i)^{\\frac{<k>}{N}I(t)}}\\right)^{I(t)} \\cdot S(t)\n",
    "\\end{align}\n",
    "Then we will use $I(0) = 0.001N = 100$ and $S(0) = N - I(0) = 99900$ as starting points. To run the Eurler algorithm. "
   ]
  },
  {
   "cell_type": "code",
   "execution_count": null,
   "metadata": {},
   "outputs": [],
   "source": [
    "def Euler(i, k, N, startI=100, startS=99900, steps=300):\n",
    "    I = [startI]\n",
    "    S = [startS]\n",
    "    time = [i for i in range(steps)]\n",
    "    for i in range(steps - 1):\n",
    "        temp = (1 - (1 - i)**(k / N)) ** I[-1]\n",
    "        I.append(temp * S[-1])\n",
    "        S.append(-temp * S[-1])\n",
    "    I = np.array(I) / N\n",
    "    return I, S, time\n",
    "    \n",
    "I1, S1, time = Euler(0.01, 5.0, 10**5)\n",
    "I2, S2, time = Euler(0.1, 0.8, 10**5)\n",
    "\n",
    "plt.plot(I1, label=\"ODE approximation case i\")\n",
    "plt.plot(I2, label=\"ODE approximation case ii\")\n",
    "plt.plot(case_iB, label = 'network result case i')\n",
    "plt.plot(case_iiB, label = 'network result case ii')\n",
    "plt.title('ODE approximation vs network result of I(t)/')\n",
    "plt.xlabel('t')\n",
    "plt.ylabel('I(t) / number of nodes')\n",
    "plt.legend()\n",
    "plt.show()"
   ]
  },
  {
   "cell_type": "markdown",
   "metadata": {},
   "source": [
    "# 3. b"
   ]
  },
  {
   "cell_type": "markdown",
   "metadata": {},
   "source": [
    "The difference we are seeing most likely comes from the fact that in reality the probability of the infected clusters of people being small and isolated is very likely with a low $<k>$. This however is not accounted for in the ODE approximation as we do not account for the topology of the network. For the more connected networks with a higher $<k>$ the assumption of a complete network used by ODE is less of a problem. As can be seen from the results of case i (more connected and more correct) and case ii (less connected and less correct)"
   ]
  },
  {
   "cell_type": "markdown",
   "metadata": {},
   "source": [
    "# 3. c"
   ]
  },
  {
   "cell_type": "markdown",
   "metadata": {},
   "source": [
    "It looks like an exponential growth. This is the case as in the beginning the infected nodes are mostly surrounded by susceptible nodes and thus can grow unhindered. But as more nodes become infected, they will act as a barrier or limiter if you'd like to the infection spread. With ODE we assume that will only limit the growth whereas in the model of the network we see that it is the isolation that limits it mostly. In the beginning the growth will look the same because of this, untill isolation stunts the spread in the network model. This can also be seen from the formula:\n"
   ]
  },
  {
   "cell_type": "markdown",
   "metadata": {},
   "source": [
    "# 4. a)"
   ]
  },
  {
   "cell_type": "code",
   "execution_count": null,
   "metadata": {},
   "outputs": [],
   "source": [
    "def create_power_law_network(N=100000, k=5.0):\n",
    "    s = nx.utils.powerlaw_sequence(N, 2.5)\n",
    "    s = s / np.mean(s) * k\n",
    "    graph_sf = nx.expected_degree_graph(s, selfloops=False)\n",
    "    return graph_sf\n",
    "\n",
    "def plot4a(initial_infected_prob, timesteps, i=0.01, N=100000):\n",
    "    # create network\n",
    "    G = create_power_law_network()\n",
    "\n",
    "    # infect initial nodes\n",
    "    for node in range(N):\n",
    "        if random.random() < initial_infected_prob:\n",
    "            G.nodes[node]['infected'] = True\n",
    "        else:\n",
    "            G.nodes[node]['infected'] = False\n",
    "\n",
    "    infected_nodes = []\n",
    "    infected_degree = []\n",
    "\n",
    "    # initiate progress bar\n",
    "    f = IntProgress(min=1, max=timesteps)\n",
    "    display(f)\n",
    "\n",
    "    # perform timesteps\n",
    "    for x in range(timesteps):\n",
    "        # for all nodes\n",
    "        infected_per_timestep = 0\n",
    "        temp = []\n",
    "        for node in range(N):\n",
    "            if G.nodes[node]['infected'] is True:\n",
    "                infected_per_timestep += 1\n",
    "            # for all neighbors\n",
    "            neighbors = nx.all_neighbors(G,node)\n",
    "            infected_neighbors = 0\n",
    "            for neighbor in neighbors:\n",
    "                if G.nodes[neighbor]['infected'] is True:\n",
    "                    infected_neighbors += 1\n",
    "            # infect node if needed\n",
    "            if random.random() < prob_infected(i,infected_neighbors):\n",
    "                G.nodes[node]['infected'] = True\n",
    "                temp.append(G.degree[node])\n",
    "        infected_nodes.append(infected_per_timestep/N)\n",
    "        infected_degree.append(temp)\n",
    "        f.value = x+1 # update progress bar\n",
    "    mean_degree = [np.mean(d) for d in infected_degree]\n",
    "    return infected_nodes, mean_degree\n",
    "\n",
    "# set variables\n",
    "initial_infected_prob = 0.001\n",
    "timesteps = 300\n",
    "\n",
    "print(\"calculation progress\")\n",
    "case_iA, case_iAdegree = plot4a(initial_infected_prob, timesteps)\n"
   ]
  },
  {
   "cell_type": "code",
   "execution_count": null,
   "metadata": {},
   "outputs": [],
   "source": [
    "plt.xlabel(\"time ->\")\n",
    "plt.ylabel(\"average reproduction number\")\n",
    "plt.title(\"fraction of infected over time\")\n",
    "plt.plot(case_iA)\n",
    "plt.plot()"
   ]
  },
  {
   "cell_type": "markdown",
   "metadata": {},
   "source": [
    "# 4. b)"
   ]
  },
  {
   "cell_type": "markdown",
   "metadata": {},
   "source": [
    "Compared to the Erdos-Reyni network this curve starts more steep and a lot of infections happen in the first 60-70 timesteps. Then the curve gets less and less steep and the infection speed slows down a lot. This is because in a scale-free network instead of the degree of each node being uniformely distributed with a chance p, now there are less hubs with a lot of connections which normally would not exist in a Erdos-Reyni network (or at least have a very small chance of existing). Additionally all the other nodes on average have a lower degree. Thus the infection spreads quickly, or rather explodes in the beginning once it has reached the main 'hubs' which spread it very fast. Then it slows down as all the nodes connected to the hubs are infected, but all nodes without connections to those hubs with a small degree and no connection still need to be reached. "
   ]
  },
  {
   "cell_type": "markdown",
   "metadata": {},
   "source": [
    "# 4. c)"
   ]
  },
  {
   "cell_type": "code",
   "execution_count": null,
   "metadata": {},
   "outputs": [],
   "source": [
    "\n",
    "plt.xlabel(\"t\")\n",
    "plt.ylabel(\"average degree\")\n",
    "plt.title(\"Average degree infected nodes per timestep\")\n",
    "plt.plot(case_iAdegree)\n",
    "plt.plot()"
   ]
  },
  {
   "cell_type": "markdown",
   "metadata": {},
   "source": [
    "# 4. d)"
   ]
  },
  {
   "cell_type": "markdown",
   "metadata": {},
   "source": [
    "Based on the figure gotten from 4 c), it is visible that nodes with a high degree are most likely to be infected first, the nodes with lower degrees have less neighbors that can infect them. So will have a lower chance to be infected. This explains why the average degree of infected nodes starts high and sinks lower and lower (fairly quickly) and stays low for most of the as the more connected nodes are infected already and the less connected nodes are the only ones left, yet very hard to infect."
   ]
  },
  {
   "cell_type": "code",
   "execution_count": null,
   "metadata": {},
   "outputs": [],
   "source": []
  }
 ],
 "metadata": {
  "kernelspec": {
   "display_name": "Python 3",
   "language": "python",
   "name": "python3"
  },
  "language_info": {
   "codemirror_mode": {
    "name": "ipython",
    "version": 3
   },
   "file_extension": ".py",
   "mimetype": "text/x-python",
   "name": "python",
   "nbconvert_exporter": "python",
   "pygments_lexer": "ipython3",
   "version": "3.6.4"
  }
 },
 "nbformat": 4,
 "nbformat_minor": 2
}
