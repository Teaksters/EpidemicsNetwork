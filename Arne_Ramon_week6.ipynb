{
 "cells": [
  {
   "cell_type": "markdown",
   "metadata": {},
   "source": [
    "Arne Meijs and Ramon Bunnink week 6"
   ]
  },
  {
   "cell_type": "markdown",
   "metadata": {},
   "source": [
    "# Problem 1 \n",
    "## Seperable ODE's\n",
    "You have seperable ODE's these are non-linear and you need to be able to write them in the following form:\n",
    "\\begin{align}\n",
    "N(x) \\frac{dx}{dy} = M(y)\n",
    "\\end{align}\n",
    "For these ODE's it is possible to seperate the variables on the left and right-hand-side of the equation. \n",
    "\n",
    "## Linear and non-linear ODE's\n",
    "For every linear ODE it is possible to write it in the following form:\n",
    "\\begin{align}\n",
    "\\frac{dy}{dt} + p(t)y = g(t)\n",
    "\\end{align}\n",
    "where p(t) and g(t) are continuous functions\n",
    "\n",
    "Linear just means that the variable in an equation appears only with a power of one. So x is linear but x2 is non-linear. Also any function like cos(x) is non-linear.\n",
    "\n",
    "In math and physics, linear generally means \"simple\" and non-linear means \"complicated\". The theory for solving linear equations is very well developed because linear equations are simple enough to be solveable. Non-linear equations can usually not be solved exactly and are the subject of much on-going research. \n",
    "\n",
    "## First-order Second order ODE's\n",
    "The order of a differential equation is equal to the highest derivative in the equation. So x' is a first derivative, while x'' is a second derivative. For ODE's when combining derivatives if the highest order derivative in the ODE is a first order derivative you have a first order ODE.\n",
    "\n",
    "Needed order derivatives of x: \n",
    "a first order ODE:\n",
    "\\begin{align}\n",
    "x' = 1/x\n",
    "\\end{align}\n",
    "a second order ODE\n",
    "\\begin{align}\n",
    "x'' = -x^{-2}\n",
    "\\end{align}"
   ]
  },
  {
   "cell_type": "markdown",
   "metadata": {},
   "source": [
    "# Problem 2\n",
    "## Explicit/implicit solutions\n",
    "An implicit solution to an ODE is \n",
    "\n",
    "\\begin{align}\n",
    "x2+y(x)2=r2\n",
    "\\end{align}\n",
    "\n",
    "This solution implicitly defines y(x), but does not state what exactly y(x) is; all we have here is an equation involving y(x). On the other hand, the explicit solution looks like\n",
    "\n",
    "\\begin{align}\n",
    "y(x)=±\\sqrt{r^2 − x^2}\n",
    "\\end{align}\n",
    "and in this case, y(x) is explicitly defined: y(x) is expressed here as an explicit function with x as the only independent variable.\n",
    "\n",
    "## Fixed point\n",
    "A fixed point is a point where the input of the function maps to itself.\n",
    "\n",
    "That is to say, c is a fixed point of the function f(x) if f(c) = c. This means f(f(...f(c)...)) = fn(c) = c, an important terminating consideration when recursively computing f.\n",
    "\n",
    "## Locally/globally stable fixed points; unstable fixed points\n",
    "\n",
    "But a stable fixed point / equilibrium of a system is any x that satisfy dx/dt = 0. But also that the function always approaches the point when it is not in it. The difference between unstable and stabel points is that stable points are attractors and unstable points rejectors. The difference between such a point being locally or globally stable/unstable is that for globally it does not matter where you start it always rejects/attracts. And locally means this is only the case for a set of starting points, but not all."
   ]
  },
  {
   "cell_type": "markdown",
   "metadata": {},
   "source": [
    "# Problem 3"
   ]
  },
  {
   "cell_type": "code",
   "execution_count": 5,
   "metadata": {},
   "outputs": [
    {
     "ename": "NameError",
     "evalue": "name 'xf' is not defined",
     "output_type": "error",
     "traceback": [
      "\u001b[0;31m---------------------------------------------------------------------------\u001b[0m",
      "\u001b[0;31mNameError\u001b[0m                                 Traceback (most recent call last)",
      "\u001b[0;32m<ipython-input-5-253a10e610b1>\u001b[0m in \u001b[0;36m<module>\u001b[0;34m()\u001b[0m\n\u001b[1;32m      9\u001b[0m     \u001b[0;32mreturn\u001b[0m \u001b[0my\u001b[0m\u001b[0;34m[\u001b[0m\u001b[0;34m-\u001b[0m\u001b[0;36m1\u001b[0m\u001b[0;34m]\u001b[0m\u001b[0;34m\u001b[0m\u001b[0m\n\u001b[1;32m     10\u001b[0m \u001b[0;34m\u001b[0m\u001b[0m\n\u001b[0;32m---> 11\u001b[0;31m \u001b[0mdeltax\u001b[0m \u001b[0;34m=\u001b[0m \u001b[0;34m(\u001b[0m\u001b[0mxf\u001b[0m \u001b[0;34m-\u001b[0m \u001b[0mx0\u001b[0m\u001b[0;34m)\u001b[0m \u001b[0;34m/\u001b[0m \u001b[0;34m(\u001b[0m\u001b[0mn\u001b[0m \u001b[0;34m-\u001b[0m \u001b[0;36m1\u001b[0m\u001b[0;34m)\u001b[0m\u001b[0;34m\u001b[0m\u001b[0m\n\u001b[0m",
      "\u001b[0;31mNameError\u001b[0m: name 'xf' is not defined"
     ]
    }
   ],
   "source": [
    "import numpy as np\n",
    "\n",
    "def Euler(x0, y0, xf, n, deltax):\n",
    "    x = np.linspace(x0, xf, n)\n",
    "    y = np.zeros(n)\n",
    "    y[0] = y0\n",
    "    for i in range(1, n):\n",
    "        y[i] =  deltax * (-y[i - 1] + np.sin(x[i - 1])) + y[i - 1]\n",
    "    return y[-1]\n",
    "\n",
    "deltax = (xf - x0) / (n - 1)    \n",
    "xfs = []"
   ]
  },
  {
   "cell_type": "code",
   "execution_count": null,
   "metadata": {},
   "outputs": [],
   "source": []
  }
 ],
 "metadata": {
  "kernelspec": {
   "display_name": "Python 3",
   "language": "python",
   "name": "python3"
  },
  "language_info": {
   "codemirror_mode": {
    "name": "ipython",
    "version": 3
   },
   "file_extension": ".py",
   "mimetype": "text/x-python",
   "name": "python",
   "nbconvert_exporter": "python",
   "pygments_lexer": "ipython3",
   "version": "3.6.4"
  }
 },
 "nbformat": 4,
 "nbformat_minor": 2
}
